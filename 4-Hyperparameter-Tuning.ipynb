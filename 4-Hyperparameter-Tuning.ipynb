{
 "cells": [
  {
   "cell_type": "markdown",
   "metadata": {},
   "source": [
    "# Hyperparameter Tuning\n",
    "\n",
    "This final notebook will focus on improving model accuracy.\n",
    "**Hyperparameter Tuning** refers to adjusting certain properties of the model - the \"hyperparameters\" - to improve how well it can fit the data.\n",
    "The term \"hyperparameters\" is used to distinguish these properties of the model from the actual model weights - or \"parameters\" - that are fit by the optimizer.\n",
    "\n",
    "We'll repeat much of the code from previous notebooks below, but note a few key places where we can try different variations to improve on the model."
   ]
  },
  {
   "cell_type": "markdown",
   "metadata": {},
   "source": [
    "### Package imports"
   ]
  },
  {
   "cell_type": "code",
   "execution_count": 1,
   "metadata": {},
   "outputs": [],
   "source": [
    "import os\n",
    "import time\n",
    "import numpy as np\n",
    "import pandas as pd\n",
    "import matplotlib.pyplot as plt\n",
    "\n",
    "# Imports for loading data into pytorch\n",
    "import torch\n",
    "from torch.utils.data import DataLoader, Dataset\n",
    "from torchvision.io import read_image\n",
    "from torchvision import transforms as T\n",
    "\n",
    "# Imports for model training\n",
    "from sklearn.model_selection import train_test_split\n",
    "from torch import nn\n",
    "import torch.optim as optim\n",
    "import torchvision.models as models"
   ]
  },
  {
   "cell_type": "markdown",
   "metadata": {},
   "source": [
    "### Set device"
   ]
  },
  {
   "cell_type": "code",
   "execution_count": 2,
   "metadata": {},
   "outputs": [
    {
     "name": "stdout",
     "output_type": "stream",
     "text": [
      "Using cuda device\n"
     ]
    }
   ],
   "source": [
    "device = 'cuda' if torch.cuda.is_available() else 'cpu'\n",
    "print('Using {} device'.format(device))"
   ]
  },
  {
   "cell_type": "markdown",
   "metadata": {},
   "source": [
    "### Load metadata\n",
    "\n",
    "Remember to edit the below paths to the data if needed."
   ]
  },
  {
   "cell_type": "code",
   "execution_count": 3,
   "metadata": {},
   "outputs": [],
   "source": [
    "data_root_dir = '/domino/datasets/Serengeti4kImages'\n",
    "#data_root_dir = '/domino/datasets/local/Serengeti4kImages'\n",
    "img_dir = os.path.join(data_root_dir, 'images')\n",
    "metadata_file = os.path.join(data_root_dir, 'reduced_metadata.csv')"
   ]
  },
  {
   "cell_type": "code",
   "execution_count": 4,
   "metadata": {},
   "outputs": [
    {
     "name": "stdout",
     "output_type": "stream",
     "text": [
      "There are 4000 images total\n"
     ]
    }
   ],
   "source": [
    "# Read in metadata and ensure it is shuffled\n",
    "metadata = pd.read_csv(metadata_file).sample(frac=1, random_state=42).reset_index(drop=True)\n",
    "# Define mappings from label name to index, for \n",
    "category_name_to_id = {\n",
    "    'zebra': 0,\n",
    "    'giraffe': 1,\n",
    "    'wildebeest': 2,\n",
    "    'gazellethomsons': 3\n",
    "}\n",
    "category_id_to_name = {v: k for k,v in category_name_to_id.items()}\n",
    "metadata['category_id'] = metadata['category_name'].apply(lambda x: category_name_to_id[x])\n",
    "print(f\"There are {len(metadata)} images total\")\n",
    "#metadata.head()"
   ]
  },
  {
   "cell_type": "markdown",
   "metadata": {},
   "source": [
    "## Choose how much data to train on\n",
    "\n",
    "The amount of data trained on is not generally considered a \"hyperparameter\" per se, but can of course impact the quality of the model!\n",
    "We'll start out with a larger subset of the data now that we have the performance improvements of the previous notebook, but you can experiment with even more data, OR go back to a smaller dataset to allow very quick trials of other model variations.\n",
    "Just keep in mind that too small of a dataset can always make it hard to distinguish between statistical \"noise\" and meaningful model improvements."
   ]
  },
  {
   "cell_type": "code",
   "execution_count": 5,
   "metadata": {},
   "outputs": [
    {
     "data": {
      "text/plain": [
       "giraffe            300\n",
       "zebra              300\n",
       "wildebeest         300\n",
       "gazellethomsons    300\n",
       "Name: category_name, dtype: int64"
      ]
     },
     "execution_count": 5,
     "metadata": {},
     "output_type": "execute_result"
    }
   ],
   "source": [
    "# must be less than 1000\n",
    "samples_per_class = 300\n",
    "\n",
    "small_metadata = (\n",
    "    metadata\n",
    "    .groupby('category_name')\n",
    "    .apply(pd.DataFrame.sample, n=samples_per_class, random_state=42)\n",
    "    .reset_index(drop=True)\n",
    ")\n",
    "small_metadata['category_name'].value_counts()"
   ]
  },
  {
   "cell_type": "code",
   "execution_count": 6,
   "metadata": {},
   "outputs": [],
   "source": [
    "train_indices, val_indices = train_test_split(\n",
    "    small_metadata.index,\n",
    "    stratify=small_metadata['category_name'],\n",
    "    test_size=0.2,\n",
    "    random_state=42\n",
    ")\n",
    "small_train_metadata = small_metadata.iloc[train_indices].reset_index(drop=True)\n",
    "small_val_metadata = small_metadata.iloc[val_indices].reset_index(drop=True)"
   ]
  },
  {
   "cell_type": "markdown",
   "metadata": {},
   "source": [
    "### Create PyTorch Dataset and DataLoader\n",
    "\n",
    "The `FastSnapshotSerengetiDataset` class definition is the same as used in the previous notebook.\n",
    "Notice that we are also reusing the same cache!\n",
    "Be sure to recreate or clear the cache directory if you make any changes to the image transformations."
   ]
  },
  {
   "cell_type": "code",
   "execution_count": 7,
   "metadata": {
    "tags": []
   },
   "outputs": [],
   "source": [
    "class FastSnapshotSerengetiDataset(Dataset):\n",
    "    def __init__(self, img_metadata, img_dir, cache_dir, transform=None):\n",
    "        # Do some basic validation\n",
    "        if not all([x in img_metadata.columns for x in ['category_id', 'file_name']]):\n",
    "            raise Exception('img_metadata must be a dataframe including columns \"category_name\" and \"file_name\"')\n",
    "        if not os.path.isdir(img_dir):\n",
    "            raise Exception('img_dir must be a valid directory')\n",
    "        if not os.path.isdir(cache_dir):\n",
    "            raise Exception('cache_dir must be a valid directory')\n",
    "        self.img_metadata = img_metadata\n",
    "        self.img_dir = img_dir\n",
    "        self.cache_dir = cache_dir\n",
    "        self.transform = transform\n",
    "\n",
    "    def __len__(self):\n",
    "        return len(self.img_metadata)\n",
    "        \n",
    "    def __cacheitem__(self, image_path, cache_path):\n",
    "        image = read_image(image_path)\n",
    "        image = torch.mul(image, 1/255.) # scale to [0, 1]\n",
    "        if self.transform:\n",
    "            image = self.transform(image)\n",
    "        torch.save(image, cache_path)\n",
    "\n",
    "    def __getitem__(self, idx):    \n",
    "        item_metadata = self.img_metadata.iloc[idx]\n",
    "        cache_path = os.path.join(self.cache_dir, item_metadata['file_name'] + '.pt')\n",
    "        if not os.path.isfile(cache_path):\n",
    "            image_path = os.path.join(self.img_dir, item_metadata['file_name'])\n",
    "            self.__cacheitem__(image_path, cache_path)\n",
    "        image = torch.load(cache_path)\n",
    "        label_idx = item_metadata['category_id']\n",
    "        one_hot_label = (\n",
    "            torch.zeros(len(category_id_to_name), dtype=torch.float)\n",
    "            .scatter_(dim=0, index=torch.tensor(label_idx), value=1)\n",
    "        )\n",
    "        return image, one_hot_label"
   ]
  },
  {
   "cell_type": "code",
   "execution_count": 8,
   "metadata": {},
   "outputs": [],
   "source": [
    "#These resize and normalize transforms will allow our data to be used with pre-trained networks in later notebooks\n",
    "standard_transform = T.Compose([\n",
    "    T.Resize(256),\n",
    "    T.CenterCrop(224),\n",
    "    T.ConvertImageDtype(torch.float32),\n",
    "    T.Normalize(mean=[0.485, 0.456, 0.406],std=[0.229, 0.224, 0.225])\n",
    "])"
   ]
  },
  {
   "cell_type": "code",
   "execution_count": 9,
   "metadata": {},
   "outputs": [],
   "source": [
    "#If you change the transformations, be sure to clear or recreate the cache!\n",
    "cache_dir = f\"/domino/datasets/local/{os.environ['DOMINO_PROJECT_NAME']}/image_cache_standard_transform\"\n",
    "if not os.path.isdir(cache_dir):\n",
    "    os.mkdir(cache_dir)"
   ]
  },
  {
   "cell_type": "code",
   "execution_count": 10,
   "metadata": {},
   "outputs": [],
   "source": [
    "train_dataset = FastSnapshotSerengetiDataset(small_train_metadata, img_dir, cache_dir, transform=standard_transform)\n",
    "val_dataset = FastSnapshotSerengetiDataset(small_val_metadata, img_dir, cache_dir, transform=standard_transform)"
   ]
  },
  {
   "cell_type": "markdown",
   "metadata": {},
   "source": [
    "## Choose the batch size\n",
    "\n",
    "Batch size is a common hyperparameter to experiment with.\n",
    "\n",
    "It impacts the training speed, and interacts with the learning rate.\n",
    "When changing the batch size, it can also be interesting to track the training loss/accuracy improvement across batches within a single epoch, not just across epochs as we are doing."
   ]
  },
  {
   "cell_type": "code",
   "execution_count": 11,
   "metadata": {},
   "outputs": [],
   "source": [
    "#reduce num_workers if geting memories errors when training below\n",
    "num_workers=1\n",
    "batch_size = 100\n",
    "train_loader = DataLoader(train_dataset, batch_size=batch_size, num_workers=num_workers, pin_memory=True)\n",
    "val_loader = DataLoader(val_dataset, batch_size=batch_size, num_workers=num_workers, pin_memory=True)"
   ]
  },
  {
   "cell_type": "markdown",
   "metadata": {},
   "source": [
    "## Choose the model architecture\n",
    "\n",
    "Some common things to try when using transfer learning are:\n",
    "* Different pretrained (or not pretrained) [PyTorch models](https://pytorch.org/vision/stable/models.html).\n",
    "* Freezing different numbers of layers at the start.\n",
    "* Un-freezing additional layers after a certain number of epochs.\n",
    "\n",
    "Keep in mind that different models have different numbers of layers and different final layer names; you may need to do a Google search or read the PyTorch docs for the model to find these values if you switch from `resnet50`.\n",
    "\n",
    "Unfreezing more model layers can have a big impact on training speed, since there are many more weights to fit.\n",
    "It can also dramatically impact the potential for overfitting a model, especially with small training datasets.\n",
    "The more weights in the model, the more data it needs to fit those weights."
   ]
  },
  {
   "cell_type": "code",
   "execution_count": 12,
   "metadata": {},
   "outputs": [],
   "source": [
    "def load_pretrained_model():\n",
    "    model = models.resnet50(pretrained=True)\n",
    "    model.fc = nn.Linear(model.fc.in_features, len(category_id_to_name)) # Rescale fully-connected layer output size\n",
    "    num_frozen_layers = 9\n",
    "\n",
    "    # Freeze `num_frozen_layers`\n",
    "    layer = 0\n",
    "    for child in model.children():\n",
    "        layer += 1\n",
    "        if layer <= num_frozen_layers:\n",
    "            for param in child.parameters():\n",
    "                param.requires_grad = False\n",
    "    print('Number of unfrozen layers: ' + str(layer-num_frozen_layers))\n",
    "    return model.to(device)"
   ]
  },
  {
   "cell_type": "code",
   "execution_count": 13,
   "metadata": {},
   "outputs": [],
   "source": [
    "def train(dataloader, model, loss_fn, optimizer, quiet=False):\n",
    "    model.train() # Set model to training mode\n",
    "    size = len(dataloader.dataset)\n",
    "    num_batches = len(dataloader)\n",
    "    train_loss, num_correct = [], 0\n",
    "    for batch, (X, y) in enumerate(dataloader):\n",
    "        X, y = X.to(device), y.to(device)\n",
    "        \n",
    "        # Compute prediction error\n",
    "        pred = model(X)\n",
    "        loss = loss_fn(pred, y)\n",
    "\n",
    "        # Backpropagation\n",
    "        optimizer.zero_grad()\n",
    "        loss.backward()\n",
    "        optimizer.step()\n",
    "\n",
    "        # String formatting choices here are tuned to this small sample\n",
    "        if not quiet:\n",
    "            print(f\"Batch {batch+1}/{num_batches} loss: {loss.item():>7f}  [{(batch+1)*len(X):>3d}/{size:>3d}]\")\n",
    "        train_loss.append(loss.item())\n",
    "        num_correct += (pred.argmax(1) == y.argmax(1)).type(torch.float).sum().item()\n",
    "\n",
    "    # Return final results for loss and accuracy\n",
    "    avg_train_loss = np.mean(train_loss)\n",
    "    train_accuracy = 100*num_correct/size\n",
    "    print(f\"Train Accuracy: {train_accuracy:>0.1f}%, Avg loss: {avg_train_loss:>8f}\")\n",
    "    return avg_train_loss, train_accuracy"
   ]
  },
  {
   "cell_type": "code",
   "execution_count": 14,
   "metadata": {},
   "outputs": [],
   "source": [
    "def test(dataloader, model, loss_fn, quiet=False):\n",
    "    model.eval() # Set model to evaluate mode\n",
    "    size = len(dataloader.dataset)\n",
    "    num_batches = len(dataloader)\n",
    "    test_loss, num_correct = [], 0\n",
    "    with torch.no_grad():\n",
    "        for batch, (X, y) in enumerate(dataloader):\n",
    "            X, y = X.to(device), y.to(device)\n",
    "            pred = model(X)\n",
    "            loss = loss_fn(pred, y)\n",
    "            # String formatting choices here are tuned to this small sample\n",
    "            if not quiet:\n",
    "                print(f\"Batch {batch+1}/{num_batches} loss: {loss.item():>7f}  [{(batch+1)*len(X):>3d}/{size:>3d}]\")\n",
    "            test_loss.append(loss.item())\n",
    "            num_correct += (pred.argmax(1) == y.argmax(1)).type(torch.float).sum().item()\n",
    "    avg_test_loss = np.mean(test_loss)\n",
    "    test_accuracy = 100*num_correct/size\n",
    "    print(f\"Test Accuracy: {test_accuracy:>0.1f}%, Avg loss: {avg_test_loss:>8f}\")\n",
    "    return avg_test_loss, test_accuracy"
   ]
  },
  {
   "cell_type": "markdown",
   "metadata": {},
   "source": [
    "### Choose an optimizer and train\n",
    "\n",
    "`SGD` and `Adam` are preconfigured, but feel free to try [another one](https://pytorch.org/docs/stable/optim.html).\n",
    "Each optimizer also has various options that can be tweaked as hyperparameters, including the **learning rate**.\n",
    "This code specifies a single value for learning rate that you can choose, but pytorch also provides more advanced methods for [\"scheduling\" the learning rate](https://pytorch.org/docs/stable/optim.html#how-to-adjust-learning-rate) to change as training progresses."
   ]
  },
  {
   "cell_type": "code",
   "execution_count": 15,
   "metadata": {},
   "outputs": [
    {
     "name": "stdout",
     "output_type": "stream",
     "text": [
      "Number of unfrozen layers: 1\n",
      "=====Epoch 1/10=====\n",
      "Train Accuracy: 29.2%, Avg loss: 0.592232\n",
      "Test Accuracy: 34.2%, Avg loss: 0.572218\n",
      "=====Epoch 2/10=====\n",
      "Train Accuracy: 49.6%, Avg loss: 0.536391\n",
      "Test Accuracy: 62.5%, Avg loss: 0.510283\n",
      "=====Epoch 3/10=====\n",
      "Train Accuracy: 65.8%, Avg loss: 0.487669\n",
      "Test Accuracy: 63.8%, Avg loss: 0.470130\n",
      "=====Epoch 4/10=====\n",
      "Train Accuracy: 72.1%, Avg loss: 0.449624\n",
      "Test Accuracy: 67.5%, Avg loss: 0.436865\n",
      "=====Epoch 5/10=====\n",
      "Train Accuracy: 74.0%, Avg loss: 0.420611\n",
      "Test Accuracy: 67.9%, Avg loss: 0.415558\n",
      "=====Epoch 6/10=====\n",
      "Train Accuracy: 75.5%, Avg loss: 0.398133\n",
      "Test Accuracy: 68.3%, Avg loss: 0.397782\n",
      "=====Epoch 7/10=====\n",
      "Train Accuracy: 75.7%, Avg loss: 0.380507\n",
      "Test Accuracy: 68.8%, Avg loss: 0.384951\n",
      "=====Epoch 8/10=====\n",
      "Train Accuracy: 76.8%, Avg loss: 0.366172\n",
      "Test Accuracy: 69.6%, Avg loss: 0.374348\n",
      "=====Epoch 9/10=====\n",
      "Train Accuracy: 76.9%, Avg loss: 0.354385\n",
      "Test Accuracy: 70.0%, Avg loss: 0.365975\n",
      "=====Epoch 10/10=====\n",
      "Train Accuracy: 77.6%, Avg loss: 0.344365\n",
      "Test Accuracy: 70.4%, Avg loss: 0.358962\n",
      "-------------------------------\n",
      "Done! Total time elapsed: 177.8s\n"
     ]
    }
   ],
   "source": [
    "model = load_pretrained_model()\n",
    "loss_fn = nn.BCEWithLogitsLoss()\n",
    "optimizer = optim.SGD(model.parameters(), lr=5e-3, momentum=0.9, weight_decay=5e-3)\n",
    "n_epochs = 10\n",
    "learning_curve = pd.DataFrame(index=range(n_epochs), columns=['train_loss', 'train_acc', 'val_loss', 'val_acc'])\n",
    "since = time.time()\n",
    "for epoch in range(n_epochs):\n",
    "    print(f\"=====Epoch {epoch+1}/{n_epochs}=====\")\n",
    "    train_loss, train_acc = train(train_loader, model, loss_fn, optimizer, quiet=True)\n",
    "    val_loss, val_acc = test(val_loader, model, loss_fn, quiet=True)\n",
    "    learning_curve.loc[epoch] = (train_loss, train_acc, val_loss, val_acc)\n",
    "total_training_time = time.time() - since\n",
    "print(f\"-------------------------------\\nDone! Total time elapsed: {total_training_time:.1f}s\")"
   ]
  },
  {
   "cell_type": "code",
   "execution_count": 16,
   "metadata": {},
   "outputs": [],
   "source": [
    "def plot_learning_curve(learning_curve):\n",
    "    fig, (ax1, ax2) = plt.subplots(2, 1, figsize=(6.4, 7))\n",
    "    x = learning_curve.index + 1\n",
    "    ax1.plot(x, learning_curve['train_acc'], label = 'training')\n",
    "    ax1.plot(x, learning_curve['val_acc'], label = 'validation')\n",
    "    ax1.axhline(100/len(category_name_to_id), label = 'random', c='r', ls=':')\n",
    "    ax1.axhline(100, label = 'perfect', c='g', ls=':')\n",
    "    ax1.legend()\n",
    "    ax1.set_ylabel('Accuracy')\n",
    "    ax1.set_xlabel('Epoch')\n",
    "    ax2.plot(x, learning_curve['train_loss'], label = 'training')\n",
    "    ax2.plot(x, learning_curve['val_loss'], label = 'validation')\n",
    "    ax2.legend()\n",
    "    ax2.set_ylabel('Loss')\n",
    "    ax2.set_xlabel('Epoch')"
   ]
  },
  {
   "cell_type": "code",
   "execution_count": 17,
   "metadata": {},
   "outputs": [
    {
     "data": {
      "image/png": "[encoded data removed]",
      "text/plain": [
       "<Figure size 460.8x504 with 2 Axes>"
      ]
     },
     "metadata": {
      "needs_background": "light"
     },
     "output_type": "display_data"
    }
   ],
   "source": [
    "plot_learning_curve(learning_curve)"
   ]
  },
  {
   "cell_type": "code",
   "execution_count": 18,
   "metadata": {
    "tags": []
   },
   "outputs": [
    {
     "name": "stdout",
     "output_type": "stream",
     "text": [
      "Number of unfrozen layers: 1\n",
      "=====Epoch 1/10=====\n",
      "Train Accuracy: 24.5%, Avg loss: 0.634299\n",
      "Test Accuracy: 27.9%, Avg loss: 0.568411\n",
      "Cumulative time elapsed: 3.8\n",
      "=====Epoch 2/10=====\n",
      "Train Accuracy: 30.9%, Avg loss: 0.563443\n",
      "Test Accuracy: 37.9%, Avg loss: 0.562087\n",
      "Cumulative time elapsed: 7.6\n",
      "=====Epoch 3/10=====\n",
      "Train Accuracy: 38.8%, Avg loss: 0.558316\n",
      "Test Accuracy: 41.7%, Avg loss: 0.546706\n",
      "Cumulative time elapsed: 11.4\n",
      "=====Epoch 4/10=====\n",
      "Train Accuracy: 50.3%, Avg loss: 0.539669\n",
      "Test Accuracy: 51.2%, Avg loss: 0.533436\n",
      "Cumulative time elapsed: 15.5\n",
      "=====Epoch 5/10=====\n",
      "Train Accuracy: 58.9%, Avg loss: 0.529034\n",
      "Test Accuracy: 56.7%, Avg loss: 0.523943\n",
      "Cumulative time elapsed: 19.5\n",
      "=====Epoch 6/10=====\n",
      "Train Accuracy: 63.3%, Avg loss: 0.518612\n",
      "Test Accuracy: 59.2%, Avg loss: 0.513813\n",
      "Cumulative time elapsed: 23.5\n",
      "=====Epoch 7/10=====\n",
      "Train Accuracy: 66.4%, Avg loss: 0.508849\n",
      "Test Accuracy: 63.8%, Avg loss: 0.504948\n",
      "Cumulative time elapsed: 27.5\n",
      "=====Epoch 8/10=====\n",
      "Train Accuracy: 68.6%, Avg loss: 0.499832\n",
      "Test Accuracy: 65.4%, Avg loss: 0.496445\n",
      "Cumulative time elapsed: 31.5\n",
      "=====Epoch 9/10=====\n",
      "Train Accuracy: 70.7%, Avg loss: 0.491252\n",
      "Test Accuracy: 67.1%, Avg loss: 0.488485\n",
      "Cumulative time elapsed: 35.6\n",
      "=====Epoch 10/10=====\n",
      "Train Accuracy: 72.5%, Avg loss: 0.483168\n",
      "Test Accuracy: 67.5%, Avg loss: 0.480974\n",
      "Cumulative time elapsed: 39.5\n",
      "-------------------------------\n",
      "Done! Total time elapsed: 39.5s\n"
     ]
    }
   ],
   "source": [
    "# In this cell we set a slower learning rate, but leave everything else the same as above\n",
    "# Everything needed to experiment with batch size and learning rate is in this cell - try different values and see!\n",
    "batch_size = 100\n",
    "learning_rate = 1e-3\n",
    "n_epochs = 10\n",
    "\n",
    "num_workers=1\n",
    "train_loader = DataLoader(train_dataset, batch_size=batch_size, num_workers=num_workers, pin_memory=True)\n",
    "val_loader = DataLoader(val_dataset, batch_size=batch_size, num_workers=num_workers, pin_memory=True)\n",
    "\n",
    "model = load_pretrained_model()\n",
    "loss_fn = nn.BCEWithLogitsLoss()\n",
    "optimizer = optim.SGD(model.parameters(), lr=learning_rate, momentum=0.9, weight_decay=5e-3)\n",
    "learning_curve = pd.DataFrame(index=range(n_epochs), columns=['train_loss', 'train_acc', 'val_loss', 'val_acc'])\n",
    "since = time.time()\n",
    "for epoch in range(n_epochs):\n",
    "    print(f\"=====Epoch {epoch+1}/{n_epochs}=====\")\n",
    "    train_loss, train_acc = train(train_loader, model, loss_fn, optimizer, quiet=True)\n",
    "    val_loss, val_acc = test(val_loader, model, loss_fn, quiet=True)\n",
    "    learning_curve.loc[epoch] = (train_loss, train_acc, val_loss, val_acc)\n",
    "    print(f\"Cumulative time elapsed: {time.time() - since:.1f}\")\n",
    "total_training_time = time.time() - since\n",
    "print(f\"-------------------------------\\nDone! Total time elapsed: {total_training_time:.1f}s\")"
   ]
  },
  {
   "cell_type": "code",
   "execution_count": 22,
   "metadata": {},
   "outputs": [
    {
     "data": {
      "image/png": "[encoded data removed]",
      "text/plain": [
       "<Figure size 460.8x504 with 2 Axes>"
      ]
     },
     "metadata": {
      "needs_background": "light"
     },
     "output_type": "display_data"
    }
   ],
   "source": [
    "plot_learning_curve(learning_curve)"
   ]
  },
  {
   "cell_type": "markdown",
   "metadata": {},
   "source": [
    "## Activity: Submit Result to Leaderboard\n",
    "\n",
    "Experiment with the hyperparameters above, and see what validation accuracy you can get out of the model.\n",
    "When you are happy with your model, run the following cell to submit your result to the leaderboard!\n",
    "\n",
    "The leaderboard will track `batch_size` and `learning_rate`, but feel free to change other aspects of the model as well."
   ]
  },
  {
   "cell_type": "code",
   "execution_count": 20,
   "metadata": {},
   "outputs": [
    {
     "data": {
      "text/html": [
       "<div>\n",
       "<style scoped>\n",
       "    .dataframe tbody tr th:only-of-type {\n",
       "        vertical-align: middle;\n",
       "    }\n",
       "\n",
       "    .dataframe tbody tr th {\n",
       "        vertical-align: top;\n",
       "    }\n",
       "\n",
       "    .dataframe thead th {\n",
       "        text-align: right;\n",
       "    }\n",
       "</style>\n",
       "<table border=\"1\" class=\"dataframe\">\n",
       "  <thead>\n",
       "    <tr style=\"text-align: right;\">\n",
       "      <th></th>\n",
       "      <th>user</th>\n",
       "      <th>date</th>\n",
       "      <th>accuracy</th>\n",
       "      <th>learning_rate</th>\n",
       "      <th>batch_size</th>\n",
       "      <th>epochs</th>\n",
       "      <th>training_time</th>\n",
       "    </tr>\n",
       "  </thead>\n",
       "  <tbody>\n",
       "    <tr>\n",
       "      <th>0</th>\n",
       "      <td>melanie-admin</td>\n",
       "      <td>20220823</td>\n",
       "      <td>67.5</td>\n",
       "      <td>0.001</td>\n",
       "      <td>100</td>\n",
       "      <td>10</td>\n",
       "      <td>39.532104</td>\n",
       "    </tr>\n",
       "  </tbody>\n",
       "</table>\n",
       "</div>"
      ],
      "text/plain": [
       "            user      date  accuracy  learning_rate  batch_size  epochs  \\\n",
       "0  melanie-admin  20220823      67.5          0.001         100      10   \n",
       "\n",
       "   training_time  \n",
       "0      39.532104  "
      ]
     },
     "execution_count": 20,
     "metadata": {},
     "output_type": "execute_result"
    }
   ],
   "source": [
    "from datetime import datetime\n",
    "\n",
    "user = os.environ['DOMINO_STARTING_USERNAME']\n",
    "today_string = datetime.today().strftime('%Y%m%d')\n",
    "my_results = {\n",
    "    'user': user,\n",
    "    'date': today_string,\n",
    "    'accuracy': learning_curve['val_acc'].iloc[-1],\n",
    "    'learning_rate': learning_rate,\n",
    "    'batch_size': batch_size,\n",
    "    'epochs': n_epochs,\n",
    "    'training_time': total_training_time\n",
    "}\n",
    "\n",
    "my_results_file = f\"{today_string}_{user}.csv\"\n",
    "my_results_path = os.path.join(\"results\", my_results_file)\n",
    "pd.DataFrame(my_results, index=[0,]).to_csv(my_results_path, index=False)\n",
    "pd.read_csv(my_results_path).head()"
   ]
  },
  {
   "cell_type": "code",
   "execution_count": 21,
   "metadata": {},
   "outputs": [
    {
     "name": "stdout",
     "output_type": "stream",
     "text": [
      "Data uploaded succesfully\n"
     ]
    }
   ],
   "source": [
    "import boto3\n",
    "\n",
    "client = boto3.client('s3', aws_access_key_id='', aws_secret_access_key='')\n",
    "client._request_signer.sign = (lambda *args, **kwargs: None)\n",
    "\n",
    "client.upload_file(my_results_path, \"workshop-leaderboard\", os.path.join(\"deep-learning\", my_results_file))\n",
    "print(\"Data uploaded succesfully\")"
   ]
  },
  {
   "cell_type": "code",
   "execution_count": null,
   "metadata": {},
   "outputs": [],
   "source": []
  }
 ],
 "metadata": {
  "kernelspec": {
   "display_name": "Python 3",
   "language": "python",
   "name": "python3"
  },
  "language_info": {
   "codemirror_mode": {
    "name": "ipython",
    "version": 3
   },
   "file_extension": ".py",
   "mimetype": "text/x-python",
   "name": "python",
   "nbconvert_exporter": "python",
   "pygments_lexer": "ipython3",
   "version": "3.8.5"
  }
 },
 "nbformat": 4,
 "nbformat_minor": 4
}
