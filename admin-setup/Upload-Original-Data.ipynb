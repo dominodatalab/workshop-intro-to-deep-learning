{
 "cells": [
  {
   "cell_type": "markdown",
   "id": "ba6c9f4b-0118-4cf9-be89-b5717ae83c98",
   "metadata": {},
   "source": [
    "# Uploading original data to Domino s3 bucket\n",
    "\n",
    "This notebook is provided for reproducibility and historical reference.\n",
    "There should be no need to run this notebook.\n",
    "\n",
    "**This notebook requires credentials available only to Domino employees.**"
   ]
  },
  {
   "cell_type": "markdown",
   "id": "ecb23ab8-2ba2-4f07-82d8-c9c4a36c7787",
   "metadata": {},
   "source": [
    "## Setup\n",
    "\n",
    "This notebook assumes you have just run `Download-Original-Data.ipynb`, and uploads that data to a Domino s3 bucket.\n",
    "\n",
    "Environment variables `AWS_ACCESS_KEY_ID` and `AWS_SECRET_ACCESS_KEY` are required to grant upload permissions to the Domino bucket.\n",
    "These are available in 1Password from Melanie Veale, or new credentials can be created for the `deep-learning-trainer` user in `domino-workshop` and used."
   ]
  },
  {
   "cell_type": "code",
   "execution_count": 1,
   "id": "6217da60-e942-49fd-8752-3bb456b7a214",
   "metadata": {},
   "outputs": [],
   "source": [
    "import os\n",
    "import boto3\n",
    "\n",
    "client = boto3.client(\n",
    "    's3',\n",
    "    aws_access_key_id = os.environ['AWS_ACCESS_KEY_ID'],\n",
    "    aws_secret_access_key = os.environ['AWS_SECRET_ACCESS_KEY']\n",
    ")"
   ]
  },
  {
   "cell_type": "code",
   "execution_count": 2,
   "id": "e5d843c8-ab5b-4e61-949d-37aa7b1d57f0",
   "metadata": {},
   "outputs": [],
   "source": [
    "ORIGINAL_DATA_PATH = f\"/domino/datasets/local/{os.environ['DOMINO_PROJECT_NAME']}/original_data\""
   ]
  },
  {
   "cell_type": "code",
   "execution_count": 3,
   "id": "b5906cef-94ce-431b-bb9f-57777db932b0",
   "metadata": {},
   "outputs": [],
   "source": [
    "s3_bucket = 'deep-learning-serengeti-4000'"
   ]
  },
  {
   "cell_type": "markdown",
   "id": "14400b8e-c552-4dc6-9eaa-59e9a2322897",
   "metadata": {},
   "source": [
    "## Upload metadata file"
   ]
  },
  {
   "cell_type": "code",
   "execution_count": 4,
   "id": "e4f91673-3f16-4575-b4cc-29cbbef49153",
   "metadata": {},
   "outputs": [
    {
     "name": "stdout",
     "output_type": "stream",
     "text": [
      "Metadata uploaded succesfully\n"
     ]
    }
   ],
   "source": [
    "metadata_file = 'reduced_metadata.csv'\n",
    "client.upload_file(\n",
    "    os.path.join(ORIGINAL_DATA_PATH, metadata_file),\n",
    "    s3_bucket,\n",
    "    metadata_file\n",
    ")\n",
    "print(\"Metadata uploaded succesfully\")"
   ]
  },
  {
   "cell_type": "markdown",
   "id": "2589588f-c745-4404-afb3-c7fd6ef1ab32",
   "metadata": {},
   "source": [
    "## Upload images\n",
    "\n",
    "Much faster to do this with aws cli"
   ]
  },
  {
   "cell_type": "code",
   "execution_count": 5,
   "id": "d58fcdde-d895-4f40-b6e9-4863c8ad2a10",
   "metadata": {},
   "outputs": [
    {
     "name": "stdout",
     "output_type": "stream",
     "text": [
      "aws-cli/1.18.69 Python/3.8.10 Linux/5.4.196-108.356.amzn2.x86_64 botocore/1.16.19\n"
     ]
    }
   ],
   "source": [
    "!aws --version"
   ]
  },
  {
   "cell_type": "code",
   "execution_count": 6,
   "id": "155fa1e4-aa72-49d4-ab62-9f9c186b3796",
   "metadata": {},
   "outputs": [],
   "source": [
    "images_folder = os.path.join(ORIGINAL_DATA_PATH, 'images')"
   ]
  },
  {
   "cell_type": "markdown",
   "id": "af1456d3-448c-46be-98e0-df500343b171",
   "metadata": {},
   "source": [
    "A good idea to try the below with `--dryrun` first"
   ]
  },
  {
   "cell_type": "code",
   "execution_count": 9,
   "id": "2bbf29bc-3a13-43e1-8cde-f4f50883c193",
   "metadata": {},
   "outputs": [],
   "source": [
    "!aws s3 sync $images_folder s3://$s3_bucket/images --quiet"
   ]
  },
  {
   "cell_type": "code",
   "execution_count": null,
   "id": "5f309524-0998-416b-b829-4396d6881c74",
   "metadata": {},
   "outputs": [],
   "source": []
  }
 ],
 "metadata": {
  "kernelspec": {
   "display_name": "Python 3",
   "language": "python",
   "name": "python3"
  },
  "language_info": {
   "codemirror_mode": {
    "name": "ipython",
    "version": 3
   },
   "file_extension": ".py",
   "mimetype": "text/x-python",
   "name": "python",
   "nbconvert_exporter": "python",
   "pygments_lexer": "ipython3",
   "version": "3.8.5"
  }
 },
 "nbformat": 4,
 "nbformat_minor": 5
}
