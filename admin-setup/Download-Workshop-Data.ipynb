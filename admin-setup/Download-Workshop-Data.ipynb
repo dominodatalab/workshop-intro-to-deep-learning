{
 "cells": [
  {
   "cell_type": "markdown",
   "id": "cfcda653-2c9b-4ac7-be05-9ea64fd52e73",
   "metadata": {},
   "source": [
    "# Download workshop data from Domino s3 bucket\n",
    "\n",
    "This notebook downloads the necessary data for this Deep Learning Tutorial from a Domino s3 bucket to a Dataset within this project.\n",
    "\n",
    "It is recommended for Domino admins to run this notebook when first installing this project on a Domino deployment.\n",
    "\n",
    "**This notebook requires credentials available only to Domino employees; if you do not have them, please see the `Download-Original-Data.ipynb` notebook to download the original public data**."
   ]
  },
  {
   "cell_type": "markdown",
   "id": "7d3b36c0-f564-43af-9162-2b08a515697e",
   "metadata": {},
   "source": [
    "## Setup\n",
    "\n",
    "Feel free to change any of the below naming conventions; just be aware that it will impact the folder names and paths to data.\n",
    "\n",
    "* Title of this project: `Deep-Learning-Tutorial`\n",
    "* Name of Dataset for images (don't use the default dataset): `Serengeti4kImages`\n",
    "* Description of Dataset for images: \"Reduced set of 4000 images from the SnapshotSerengeti project, including metadata, for use in the Deep Learning Tutorial.\"\n",
    "\n",
    "Environment variables `AWS_ACCESS_KEY_ID` and `AWS_SECRET_ACCESS_KEY` are required to grant upload permissions to the Domino bucket. These are available from Andrea Lowe or Josh Poduska, or new credentials can be created for the `deep-learning-trainer` user in `domino-workshop` and used."
   ]
  },
  {
   "cell_type": "markdown",
   "id": "3f18767a-beeb-4f41-a3a6-d35bf2135d8d",
   "metadata": {},
   "source": [
    "## Download\n",
    "\n",
    "Quickest way to download is with aws cli\n\n",
    "If the aws cli is not already installed, run the following commands either in a new Jupyter cell or in a Terminal\n",
    "* curl 'https://awscli.amazonaws.com/awscli-exe-linux-x86_64.zip' -o 'awscliv2.zip'\n",
    "* unzip awscliv2.zip\n",
    "* sudo ./aws/install\n",
    "If this does not install the cli, consult the latest documentation from AWS."    
   ]
  },
  {
   "cell_type": "code",
   "execution_count": 1,
   "id": "b09ed689-70b2-4acb-9dd1-4c36d3636e2c",
   "metadata": {},
   "outputs": [
    {
     "name": "stdout",
     "output_type": "stream",
     "text": [
      "aws-cli/1.18.69 Python/3.6.9 Linux/5.15.0-1017-aws botocore/1.16.19\n"
     ]
    }
   ],
   "source": [
    "!aws --version"
   ]
  },
  {
   "cell_type": "code",
   "execution_count": 2,
   "id": "df89bbb0-cde8-425b-b603-347c1494d962",
   "metadata": {},
   "outputs": [],
   "source": [
    "s3_bucket = 'deep-learning-serengeti-4000'\n",
    "destination_path = '/domino/datasets/local/Serengeti4kImages'"
   ]
  },
  {
   "cell_type": "code",
   "execution_count": 3,
   "id": "f028b54a-e3c6-4bdd-ba5a-610bbaaf464e",
   "metadata": {},
   "outputs": [],
   "source": [
    "!aws s3 sync s3://$s3_bucket $destination_path --quiet"
   ]
  },
  {
   "cell_type": "code",
   "execution_count": 4,
   "id": "c25c309e-3825-4ba4-a33c-b95d7ad74ca5",
   "metadata": {},
   "outputs": [
    {
     "name": "stdout",
     "output_type": "stream",
     "text": [
      "images\treduced_metadata.csv\n"
     ]
    }
   ],
   "source": [
    "# Check the results\n",
    "!ls $destination_path"
   ]
  },
  {
   "cell_type": "markdown",
   "id": "49de0038-87d5-4177-9202-133c5ba61f2d",
   "metadata": {},
   "source": [
    "## Mounting\n",
    "\n",
    "Once the download is complete, anyone forking or copying this project can mount the `Serengeti4kImages` Dataset to have access to the images.\n",
    "Note that other projects mounting the Dataset will have read-only access."
   ]
  },
  {
   "cell_type": "code",
   "execution_count": null,
   "id": "f419fb37-c42a-4b6f-9770-397083b9478e",
   "metadata": {},
   "outputs": [],
   "source": []
  }
 ],
 "metadata": {
  "kernelspec": {
   "display_name": "Python 3",
   "language": "python",
   "name": "python3"
  },
  "language_info": {
   "codemirror_mode": {
    "name": "ipython",
    "version": 3
   },
   "file_extension": ".py",
   "mimetype": "text/x-python",
   "name": "python",
   "nbconvert_exporter": "python",
   "pygments_lexer": "ipython3",
   "version": "3.8.5"
  }
 },
 "nbformat": 4,
 "nbformat_minor": 5
}
