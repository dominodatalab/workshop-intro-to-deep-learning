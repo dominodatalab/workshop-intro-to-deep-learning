{
 "cells": [
  {
   "cell_type": "markdown",
   "id": "35a7002d-f796-417d-9c78-4cf812acddd7",
   "metadata": {},
   "source": [
    "# Downloading Original Data\n",
    "\n",
    "This notebook is provided for reproducibility and historical reference.\n",
    "\n",
    "For Domino employees, when setting up this project on a new instance of Domino, it is recommended to download this set of images from the relevant Domino s3 bucket as described in `Download-Workshop-Data.ipynb` rather than downloading directly from the original source as in this notebook."
   ]
  },
  {
   "cell_type": "markdown",
   "id": "0e45c4be-ad8c-4b85-bdb1-febbeac09d5d",
   "metadata": {},
   "source": [
    "## Overview \n",
    "\n",
    "This information is pulled from http://lila.science/datasets/snapshot-serengeti\n",
    "\n",
    "The data set that we are pulling images from contains approximately 2.65M sequences of camera trap images, totaling 7.1M images, from the Snapshot Safari network:\n",
    "\n",
    "*Using the same camera trapping protocols at every site, Snapshot Safari members are collecting standardized data from many protected areas in Africa, which allows for cross-site comparisons to assess the efficacy of conservation and restoration programs.*\n",
    "\n",
    "Labels are provided for 61 categories, primarily at the species level (for example, the most common labels are wildebeest, zebra, and Thomson’s gazelle). Approximately 76% of images are labeled as empty. You can find a full list of species and associated image counts at their website."
   ]
  },
  {
   "cell_type": "markdown",
   "id": "359384b2",
   "metadata": {},
   "source": [
    "## Download Guidelines\n",
    "This notebook follows roughly the guidelines provided at http://lila.science/image-access\n",
    "\n",
    "All files and images will be downloaded into the default [Domino Dataset](https://docs.dominodatalab.com/en/latest/user_guide/0a8d11/datasets-overview/) location, assuming this notebook is run inside a Domino project.\n",
    "Adjust the paths as needed if running this notebook elsewhere."
   ]
  },
  {
   "cell_type": "code",
   "execution_count": 1,
   "id": "a6c12157",
   "metadata": {},
   "outputs": [],
   "source": [
    "import os\n",
    "import json\n",
    "import pandas as pd"
   ]
  },
  {
   "cell_type": "code",
   "execution_count": 2,
   "id": "f0983761-d003-4b9d-87e4-e9023aa0bc30",
   "metadata": {},
   "outputs": [],
   "source": [
    "DATASET_ROOT_PATH = f\"/domino/datasets/local/{os.environ['DOMINO_PROJECT_NAME']}\"\n",
    "ORIGINAL_DATA_PATH = os.path.join(DATASET_ROOT_PATH, 'original_data')\n",
    "if not os.path.exists(ORIGINAL_DATA_PATH):\n",
    "    os.mkdir(ORIGINAL_DATA_PATH)"
   ]
  },
  {
   "cell_type": "code",
   "execution_count": 3,
   "id": "b6e11c69-10fe-4d4a-9dd4-31d244590f73",
   "metadata": {},
   "outputs": [
    {
     "name": "stdout",
     "output_type": "stream",
     "text": [
      "Downloading to /domino/datasets/local/Deep-Learning-Tutorial/original_data\n"
     ]
    }
   ],
   "source": [
    "!echo \"Downloading to $ORIGINAL_DATA_PATH\""
   ]
  },
  {
   "cell_type": "markdown",
   "id": "9907b46a-fe0d-45ba-963f-5b15c1d5016b",
   "metadata": {},
   "source": [
    "## Download and process metadata\n",
    "The metadata file provided at https://lilablobssc.blob.core.windows.net/snapshotserengeti-v-2-0/SnapshotSerengeti_S1-11_v2_1.json.zip contains the information needed to download a selection of files from the dataset."
   ]
  },
  {
   "cell_type": "markdown",
   "id": "8d1722f3-15df-44e2-981d-f4cf54def9a8",
   "metadata": {},
   "source": [
    "### Download metadata file and inspect contents"
   ]
  },
  {
   "cell_type": "code",
   "execution_count": 4,
   "id": "6e780e6a-52dc-45a5-bc70-3efc1ae4700d",
   "metadata": {},
   "outputs": [
    {
     "name": "stdout",
     "output_type": "stream",
     "text": [
      "--2022-08-20 22:31:01--  https://lilablobssc.blob.core.windows.net/snapshotserengeti-v-2-0/SnapshotSerengetiS11.json.zip\n",
      "Resolving lilablobssc.blob.core.windows.net (lilablobssc.blob.core.windows.net)... 52.239.159.84\n",
      "Connecting to lilablobssc.blob.core.windows.net (lilablobssc.blob.core.windows.net)|52.239.159.84|:443... connected.\n",
      "HTTP request sent, awaiting response... 200 OK\n",
      "Length: 24463908 (23M) [application/x-zip-compressed]\n",
      "Saving to: ‘/domino/datasets/local/Deep-Learning-Tutorial/original_data/SnapshotSerengetiS11.json.zip’\n",
      "\n",
      "SnapshotSerengetiS1 100%[===================>]  23.33M  19.2MB/s    in 1.2s    \n",
      "\n",
      "2022-08-20 22:31:03 (19.2 MB/s) - ‘/domino/datasets/local/Deep-Learning-Tutorial/original_data/SnapshotSerengetiS11.json.zip’ saved [24463908/24463908]\n",
      "\n"
     ]
    }
   ],
   "source": [
    "!wget \"https://lilablobssc.blob.core.windows.net/snapshotserengeti-v-2-0/SnapshotSerengetiS11.json.zip\" -P $ORIGINAL_DATA_PATH"
   ]
  },
  {
   "cell_type": "code",
   "execution_count": 5,
   "id": "e47ceb66-2670-44fc-981c-95ff6cd189b0",
   "metadata": {},
   "outputs": [
    {
     "name": "stdout",
     "output_type": "stream",
     "text": [
      "Archive:  /domino/datasets/local/Deep-Learning-Tutorial/original_data/SnapshotSerengetiS11.json.zip\n",
      "  inflating: /domino/datasets/local/Deep-Learning-Tutorial/original_data/SnapshotSerengetiS11.json  \n"
     ]
    }
   ],
   "source": [
    "!unzip $ORIGINAL_DATA_PATH/\"SnapshotSerengetiS11.json.zip\" -d $ORIGINAL_DATA_PATH"
   ]
  },
  {
   "cell_type": "code",
   "execution_count": 6,
   "id": "12e0ebc4-27ec-49a9-add0-2aed36e59188",
   "metadata": {},
   "outputs": [
    {
     "name": "stdout",
     "output_type": "stream",
     "text": [
      "images\tSnapshotSerengetiS11.json  SnapshotSerengetiS11.json.zip\n"
     ]
    }
   ],
   "source": [
    "# Note the unzipped file\n",
    "!ls $ORIGINAL_DATA_PATH"
   ]
  },
  {
   "cell_type": "code",
   "execution_count": 7,
   "id": "5f0e212d-58f8-4f75-8943-7ee4882e3c8e",
   "metadata": {},
   "outputs": [
    {
     "data": {
      "text/plain": [
       "dict_keys(['info', 'categories', 'images', 'annotations'])"
      ]
     },
     "execution_count": 7,
     "metadata": {},
     "output_type": "execute_result"
    }
   ],
   "source": [
    "metadata = json.load(open(os.path.join(ORIGINAL_DATA_PATH, \"SnapshotSerengetiS11.json\")))\n",
    "metadata.keys()"
   ]
  },
  {
   "cell_type": "code",
   "execution_count": 8,
   "id": "45dedde6-e1e6-4dfb-a434-bc23dae49ab7",
   "metadata": {},
   "outputs": [
    {
     "data": {
      "text/plain": [
       "{'version': '2.0',\n",
       " 'description': 'Camera trap data from the Snapshot Serengeti program, season 11',\n",
       " 'date_created': '2019',\n",
       " 'contributor': 'University of Minnesota Lion Center'}"
      ]
     },
     "execution_count": 8,
     "metadata": {},
     "output_type": "execute_result"
    }
   ],
   "source": [
    "metadata['info']"
   ]
  },
  {
   "cell_type": "code",
   "execution_count": 9,
   "id": "16df6616-a96f-475c-b5ce-c5cd57b512c7",
   "metadata": {},
   "outputs": [
    {
     "name": "stdout",
     "output_type": "stream",
     "text": [
      "There are 499401 images total. Sample image entry:\n"
     ]
    },
    {
     "data": {
      "text/plain": [
       "{'id': 'SER_S11/L13/L13_R2/SER_S11_L13_R2_IMAG4128',\n",
       " 'file_name': 'SER_S11/L13/L13_R2/SER_S11_L13_R2_IMAG4128.JPG',\n",
       " 'frame_num': 3,\n",
       " 'seq_id': 'SER_S11#L13#2#1377',\n",
       " 'width': 2560,\n",
       " 'height': 1920,\n",
       " 'corrupt': False,\n",
       " 'location': 'L13',\n",
       " 'seq_num_frames': 3,\n",
       " 'datetime': '2015-09-29 11:23:01'}"
      ]
     },
     "execution_count": 9,
     "metadata": {},
     "output_type": "execute_result"
    }
   ],
   "source": [
    "print(f\"There are {len(metadata['images'])} images total. Sample image entry:\")\n",
    "metadata['images'][0]"
   ]
  },
  {
   "cell_type": "code",
   "execution_count": 10,
   "id": "1dcb935a-8e69-41a6-8a1f-6739ef26544a",
   "metadata": {},
   "outputs": [
    {
     "data": {
      "text/html": [
       "<div>\n",
       "<style scoped>\n",
       "    .dataframe tbody tr th:only-of-type {\n",
       "        vertical-align: middle;\n",
       "    }\n",
       "\n",
       "    .dataframe tbody tr th {\n",
       "        vertical-align: top;\n",
       "    }\n",
       "\n",
       "    .dataframe thead th {\n",
       "        text-align: right;\n",
       "    }\n",
       "</style>\n",
       "<table border=\"1\" class=\"dataframe\">\n",
       "  <thead>\n",
       "    <tr style=\"text-align: right;\">\n",
       "      <th></th>\n",
       "      <th>id</th>\n",
       "      <th>file_name</th>\n",
       "      <th>frame_num</th>\n",
       "      <th>seq_id</th>\n",
       "      <th>width</th>\n",
       "      <th>height</th>\n",
       "      <th>corrupt</th>\n",
       "      <th>location</th>\n",
       "      <th>seq_num_frames</th>\n",
       "      <th>datetime</th>\n",
       "    </tr>\n",
       "  </thead>\n",
       "  <tbody>\n",
       "    <tr>\n",
       "      <th>0</th>\n",
       "      <td>SER_S11/L13/L13_R2/SER_S11_L13_R2_IMAG4128</td>\n",
       "      <td>SER_S11/L13/L13_R2/SER_S11_L13_R2_IMAG4128.JPG</td>\n",
       "      <td>3</td>\n",
       "      <td>SER_S11#L13#2#1377</td>\n",
       "      <td>2560</td>\n",
       "      <td>1920</td>\n",
       "      <td>False</td>\n",
       "      <td>L13</td>\n",
       "      <td>3</td>\n",
       "      <td>2015-09-29 11:23:01</td>\n",
       "    </tr>\n",
       "    <tr>\n",
       "      <th>1</th>\n",
       "      <td>SER_S11/M09/M09_R1/SER_S11_M09_R1_IMAG3285</td>\n",
       "      <td>SER_S11/M09/M09_R1/SER_S11_M09_R1_IMAG3285.JPG</td>\n",
       "      <td>1</td>\n",
       "      <td>SER_S11#M09#1#1213</td>\n",
       "      <td>2560</td>\n",
       "      <td>1920</td>\n",
       "      <td>False</td>\n",
       "      <td>M09</td>\n",
       "      <td>3</td>\n",
       "      <td>2015-08-10 17:49:13</td>\n",
       "    </tr>\n",
       "    <tr>\n",
       "      <th>2</th>\n",
       "      <td>SER_S11/M11/M11_R1/SER_S11_M11_R1_IMAG3321</td>\n",
       "      <td>SER_S11/M11/M11_R1/SER_S11_M11_R1_IMAG3321.JPG</td>\n",
       "      <td>2</td>\n",
       "      <td>SER_S11#M11#1#1111</td>\n",
       "      <td>2560</td>\n",
       "      <td>1920</td>\n",
       "      <td>False</td>\n",
       "      <td>M11</td>\n",
       "      <td>3</td>\n",
       "      <td>2015-07-20 11:03:54</td>\n",
       "    </tr>\n",
       "    <tr>\n",
       "      <th>3</th>\n",
       "      <td>SER_S11/O07/O07_R1/SER_S11_O07_R1_IMAG08918</td>\n",
       "      <td>SER_S11/O07/O07_R1/SER_S11_O07_R1_IMAG08918.JPG</td>\n",
       "      <td>2</td>\n",
       "      <td>SER_S11#O07#1#3062</td>\n",
       "      <td>2048</td>\n",
       "      <td>1536</td>\n",
       "      <td>False</td>\n",
       "      <td>O07</td>\n",
       "      <td>3</td>\n",
       "      <td>2015-09-12 17:56:02</td>\n",
       "    </tr>\n",
       "    <tr>\n",
       "      <th>4</th>\n",
       "      <td>SER_S11/M11/M11_R1/SER_S11_M11_R1_IMAG2478</td>\n",
       "      <td>SER_S11/M11/M11_R1/SER_S11_M11_R1_IMAG2478.JPG</td>\n",
       "      <td>1</td>\n",
       "      <td>SER_S11#M11#1#829</td>\n",
       "      <td>2560</td>\n",
       "      <td>1920</td>\n",
       "      <td>False</td>\n",
       "      <td>M11</td>\n",
       "      <td>3</td>\n",
       "      <td>2015-07-19 14:05:09</td>\n",
       "    </tr>\n",
       "  </tbody>\n",
       "</table>\n",
       "</div>"
      ],
      "text/plain": [
       "                                            id  \\\n",
       "0   SER_S11/L13/L13_R2/SER_S11_L13_R2_IMAG4128   \n",
       "1   SER_S11/M09/M09_R1/SER_S11_M09_R1_IMAG3285   \n",
       "2   SER_S11/M11/M11_R1/SER_S11_M11_R1_IMAG3321   \n",
       "3  SER_S11/O07/O07_R1/SER_S11_O07_R1_IMAG08918   \n",
       "4   SER_S11/M11/M11_R1/SER_S11_M11_R1_IMAG2478   \n",
       "\n",
       "                                         file_name  frame_num  \\\n",
       "0   SER_S11/L13/L13_R2/SER_S11_L13_R2_IMAG4128.JPG          3   \n",
       "1   SER_S11/M09/M09_R1/SER_S11_M09_R1_IMAG3285.JPG          1   \n",
       "2   SER_S11/M11/M11_R1/SER_S11_M11_R1_IMAG3321.JPG          2   \n",
       "3  SER_S11/O07/O07_R1/SER_S11_O07_R1_IMAG08918.JPG          2   \n",
       "4   SER_S11/M11/M11_R1/SER_S11_M11_R1_IMAG2478.JPG          1   \n",
       "\n",
       "               seq_id  width  height  corrupt location  seq_num_frames  \\\n",
       "0  SER_S11#L13#2#1377   2560    1920    False      L13               3   \n",
       "1  SER_S11#M09#1#1213   2560    1920    False      M09               3   \n",
       "2  SER_S11#M11#1#1111   2560    1920    False      M11               3   \n",
       "3  SER_S11#O07#1#3062   2048    1536    False      O07               3   \n",
       "4   SER_S11#M11#1#829   2560    1920    False      M11               3   \n",
       "\n",
       "              datetime  \n",
       "0  2015-09-29 11:23:01  \n",
       "1  2015-08-10 17:49:13  \n",
       "2  2015-07-20 11:03:54  \n",
       "3  2015-09-12 17:56:02  \n",
       "4  2015-07-19 14:05:09  "
      ]
     },
     "execution_count": 10,
     "metadata": {},
     "output_type": "execute_result"
    }
   ],
   "source": [
    "all_images = pd.DataFrame.from_dict(metadata['images'])\n",
    "all_images.head()"
   ]
  },
  {
   "cell_type": "code",
   "execution_count": 11,
   "id": "dd359a33-cad7-4aff-8357-17f637c9f5a3",
   "metadata": {},
   "outputs": [
    {
     "name": "stdout",
     "output_type": "stream",
     "text": [
      "There are 506455 annotations total. Sample annotation entry:\n"
     ]
    },
    {
     "data": {
      "text/plain": [
       "{'sequence_level_annotation': True,\n",
       " 'id': '53b021e9-955a-11e9-98aa-000d3a198845',\n",
       " 'category_id': 0,\n",
       " 'seq_id': 'SER_S11#B03#1#1',\n",
       " 'season': 'SER_S11',\n",
       " 'datetime': '2015-08-05 10:41:29',\n",
       " 'subject_id': 18837479,\n",
       " 'count': nan,\n",
       " 'standing': 0.07,\n",
       " 'resting': 0.0,\n",
       " 'moving': 0.07,\n",
       " 'interacting': 0.0,\n",
       " 'young_present': 0.0,\n",
       " 'image_id': 'SER_S11/B03/B03_R1/SER_S11_B03_R1_IMAG0001',\n",
       " 'location': 'B03'}"
      ]
     },
     "execution_count": 11,
     "metadata": {},
     "output_type": "execute_result"
    }
   ],
   "source": [
    "print(f\"There are {len(metadata['annotations'])} annotations total. Sample annotation entry:\")\n",
    "metadata['annotations'][0]"
   ]
  },
  {
   "cell_type": "code",
   "execution_count": 12,
   "id": "2d76ff13-0d95-4094-acba-7d1dbd0225a1",
   "metadata": {
    "tags": []
   },
   "outputs": [
    {
     "data": {
      "text/html": [
       "<div>\n",
       "<style scoped>\n",
       "    .dataframe tbody tr th:only-of-type {\n",
       "        vertical-align: middle;\n",
       "    }\n",
       "\n",
       "    .dataframe tbody tr th {\n",
       "        vertical-align: top;\n",
       "    }\n",
       "\n",
       "    .dataframe thead th {\n",
       "        text-align: right;\n",
       "    }\n",
       "</style>\n",
       "<table border=\"1\" class=\"dataframe\">\n",
       "  <thead>\n",
       "    <tr style=\"text-align: right;\">\n",
       "      <th></th>\n",
       "      <th>sequence_level_annotation</th>\n",
       "      <th>id</th>\n",
       "      <th>category_id</th>\n",
       "      <th>seq_id</th>\n",
       "      <th>season</th>\n",
       "      <th>datetime</th>\n",
       "      <th>subject_id</th>\n",
       "      <th>count</th>\n",
       "      <th>standing</th>\n",
       "      <th>resting</th>\n",
       "      <th>moving</th>\n",
       "      <th>interacting</th>\n",
       "      <th>young_present</th>\n",
       "      <th>image_id</th>\n",
       "      <th>location</th>\n",
       "    </tr>\n",
       "  </thead>\n",
       "  <tbody>\n",
       "    <tr>\n",
       "      <th>0</th>\n",
       "      <td>True</td>\n",
       "      <td>53b021e9-955a-11e9-98aa-000d3a198845</td>\n",
       "      <td>0</td>\n",
       "      <td>SER_S11#B03#1#1</td>\n",
       "      <td>SER_S11</td>\n",
       "      <td>2015-08-05 10:41:29</td>\n",
       "      <td>18837479</td>\n",
       "      <td>NaN</td>\n",
       "      <td>0.07</td>\n",
       "      <td>0.0</td>\n",
       "      <td>0.07</td>\n",
       "      <td>0.00</td>\n",
       "      <td>0.0</td>\n",
       "      <td>SER_S11/B03/B03_R1/SER_S11_B03_R1_IMAG0001</td>\n",
       "      <td>B03</td>\n",
       "    </tr>\n",
       "    <tr>\n",
       "      <th>1</th>\n",
       "      <td>True</td>\n",
       "      <td>53b021ea-955a-11e9-a2b7-000d3a198845</td>\n",
       "      <td>0</td>\n",
       "      <td>SER_S11#B03#1#2</td>\n",
       "      <td>SER_S11</td>\n",
       "      <td>2015-08-05 10:41:40</td>\n",
       "      <td>18837481</td>\n",
       "      <td>NaN</td>\n",
       "      <td>NaN</td>\n",
       "      <td>NaN</td>\n",
       "      <td>NaN</td>\n",
       "      <td>NaN</td>\n",
       "      <td>NaN</td>\n",
       "      <td>SER_S11/B03/B03_R1/SER_S11_B03_R1_IMAG0002</td>\n",
       "      <td>B03</td>\n",
       "    </tr>\n",
       "    <tr>\n",
       "      <th>2</th>\n",
       "      <td>True</td>\n",
       "      <td>53b021eb-955a-11e9-8e4f-000d3a198845</td>\n",
       "      <td>0</td>\n",
       "      <td>SER_S11#B03#1#3</td>\n",
       "      <td>SER_S11</td>\n",
       "      <td>2015-08-05 10:41:45</td>\n",
       "      <td>18837482</td>\n",
       "      <td>NaN</td>\n",
       "      <td>NaN</td>\n",
       "      <td>NaN</td>\n",
       "      <td>NaN</td>\n",
       "      <td>NaN</td>\n",
       "      <td>NaN</td>\n",
       "      <td>SER_S11/B03/B03_R1/SER_S11_B03_R1_IMAG0003</td>\n",
       "      <td>B03</td>\n",
       "    </tr>\n",
       "    <tr>\n",
       "      <th>3</th>\n",
       "      <td>True</td>\n",
       "      <td>53b021ec-955a-11e9-a5bb-000d3a198845</td>\n",
       "      <td>1</td>\n",
       "      <td>SER_S11#B03#1#4</td>\n",
       "      <td>SER_S11</td>\n",
       "      <td>2015-08-05 10:42:11</td>\n",
       "      <td>18837483</td>\n",
       "      <td>NaN</td>\n",
       "      <td>0.62</td>\n",
       "      <td>0.0</td>\n",
       "      <td>0.38</td>\n",
       "      <td>0.23</td>\n",
       "      <td>0.0</td>\n",
       "      <td>SER_S11/B03/B03_R1/SER_S11_B03_R1_IMAG0004</td>\n",
       "      <td>B03</td>\n",
       "    </tr>\n",
       "    <tr>\n",
       "      <th>4</th>\n",
       "      <td>True</td>\n",
       "      <td>53b021ed-955a-11e9-96a3-000d3a198845</td>\n",
       "      <td>1</td>\n",
       "      <td>SER_S11#B03#1#4</td>\n",
       "      <td>SER_S11</td>\n",
       "      <td>2015-08-05 10:42:11</td>\n",
       "      <td>18837483</td>\n",
       "      <td>NaN</td>\n",
       "      <td>0.62</td>\n",
       "      <td>0.0</td>\n",
       "      <td>0.38</td>\n",
       "      <td>0.23</td>\n",
       "      <td>0.0</td>\n",
       "      <td>SER_S11/B03/B03_R1/SER_S11_B03_R1_IMAG0005</td>\n",
       "      <td>B03</td>\n",
       "    </tr>\n",
       "  </tbody>\n",
       "</table>\n",
       "</div>"
      ],
      "text/plain": [
       "   sequence_level_annotation                                    id  \\\n",
       "0                       True  53b021e9-955a-11e9-98aa-000d3a198845   \n",
       "1                       True  53b021ea-955a-11e9-a2b7-000d3a198845   \n",
       "2                       True  53b021eb-955a-11e9-8e4f-000d3a198845   \n",
       "3                       True  53b021ec-955a-11e9-a5bb-000d3a198845   \n",
       "4                       True  53b021ed-955a-11e9-96a3-000d3a198845   \n",
       "\n",
       "   category_id           seq_id   season             datetime  subject_id  \\\n",
       "0            0  SER_S11#B03#1#1  SER_S11  2015-08-05 10:41:29    18837479   \n",
       "1            0  SER_S11#B03#1#2  SER_S11  2015-08-05 10:41:40    18837481   \n",
       "2            0  SER_S11#B03#1#3  SER_S11  2015-08-05 10:41:45    18837482   \n",
       "3            1  SER_S11#B03#1#4  SER_S11  2015-08-05 10:42:11    18837483   \n",
       "4            1  SER_S11#B03#1#4  SER_S11  2015-08-05 10:42:11    18837483   \n",
       "\n",
       "  count  standing  resting  moving  interacting  young_present  \\\n",
       "0   NaN      0.07      0.0    0.07         0.00            0.0   \n",
       "1   NaN       NaN      NaN     NaN          NaN            NaN   \n",
       "2   NaN       NaN      NaN     NaN          NaN            NaN   \n",
       "3   NaN      0.62      0.0    0.38         0.23            0.0   \n",
       "4   NaN      0.62      0.0    0.38         0.23            0.0   \n",
       "\n",
       "                                     image_id location  \n",
       "0  SER_S11/B03/B03_R1/SER_S11_B03_R1_IMAG0001      B03  \n",
       "1  SER_S11/B03/B03_R1/SER_S11_B03_R1_IMAG0002      B03  \n",
       "2  SER_S11/B03/B03_R1/SER_S11_B03_R1_IMAG0003      B03  \n",
       "3  SER_S11/B03/B03_R1/SER_S11_B03_R1_IMAG0004      B03  \n",
       "4  SER_S11/B03/B03_R1/SER_S11_B03_R1_IMAG0005      B03  "
      ]
     },
     "execution_count": 12,
     "metadata": {},
     "output_type": "execute_result"
    }
   ],
   "source": [
    "all_annotations = pd.DataFrame.from_dict(metadata['annotations'])\n",
    "all_annotations.head()"
   ]
  },
  {
   "cell_type": "code",
   "execution_count": 13,
   "id": "4684e913-34cb-4793-8ce2-6237e4fb32e5",
   "metadata": {},
   "outputs": [
    {
     "name": "stdout",
     "output_type": "stream",
     "text": [
      "There are 61 categories total. Sample categories entry:\n"
     ]
    },
    {
     "data": {
      "text/plain": [
       "{'id': 0, 'name': 'empty'}"
      ]
     },
     "execution_count": 13,
     "metadata": {},
     "output_type": "execute_result"
    }
   ],
   "source": [
    "print(f\"There are {len(metadata['categories'])} categories total. Sample categories entry:\")\n",
    "metadata['categories'][0]"
   ]
  },
  {
   "cell_type": "code",
   "execution_count": 14,
   "id": "5eda221a-744f-4f75-82b4-4c0743373aeb",
   "metadata": {},
   "outputs": [
    {
     "data": {
      "text/html": [
       "<div>\n",
       "<style scoped>\n",
       "    .dataframe tbody tr th:only-of-type {\n",
       "        vertical-align: middle;\n",
       "    }\n",
       "\n",
       "    .dataframe tbody tr th {\n",
       "        vertical-align: top;\n",
       "    }\n",
       "\n",
       "    .dataframe thead th {\n",
       "        text-align: right;\n",
       "    }\n",
       "</style>\n",
       "<table border=\"1\" class=\"dataframe\">\n",
       "  <thead>\n",
       "    <tr style=\"text-align: right;\">\n",
       "      <th></th>\n",
       "      <th>name</th>\n",
       "    </tr>\n",
       "    <tr>\n",
       "      <th>id</th>\n",
       "      <th></th>\n",
       "    </tr>\n",
       "  </thead>\n",
       "  <tbody>\n",
       "    <tr>\n",
       "      <th>0</th>\n",
       "      <td>empty</td>\n",
       "    </tr>\n",
       "    <tr>\n",
       "      <th>1</th>\n",
       "      <td>human</td>\n",
       "    </tr>\n",
       "    <tr>\n",
       "      <th>2</th>\n",
       "      <td>gazellegrants</td>\n",
       "    </tr>\n",
       "    <tr>\n",
       "      <th>3</th>\n",
       "      <td>reedbuck</td>\n",
       "    </tr>\n",
       "    <tr>\n",
       "      <th>4</th>\n",
       "      <td>dikdik</td>\n",
       "    </tr>\n",
       "  </tbody>\n",
       "</table>\n",
       "</div>"
      ],
      "text/plain": [
       "             name\n",
       "id               \n",
       "0           empty\n",
       "1           human\n",
       "2   gazellegrants\n",
       "3        reedbuck\n",
       "4          dikdik"
      ]
     },
     "execution_count": 14,
     "metadata": {},
     "output_type": "execute_result"
    }
   ],
   "source": [
    "all_categories = pd.DataFrame.from_dict(metadata['categories'])\n",
    "all_categories.set_index('id', inplace=True)\n",
    "all_categories.head()"
   ]
  },
  {
   "cell_type": "markdown",
   "id": "a63dfd44-e7a6-4eaa-ba81-4dad935ceb86",
   "metadata": {},
   "source": [
    "### Pick out 4 categories of interest\n",
    "\n",
    "We will pick out four of the categories to use in our sample"
   ]
  },
  {
   "cell_type": "code",
   "execution_count": 15,
   "id": "5be1d937-90c3-4106-9456-204271542f1e",
   "metadata": {},
   "outputs": [
    {
     "data": {
      "text/plain": [
       "{'gazellethomsons': 7, 'giraffe': 13, 'wildebeest': 18, 'zebra': 5}"
      ]
     },
     "execution_count": 15,
     "metadata": {},
     "output_type": "execute_result"
    }
   ],
   "source": [
    "our_categories = {\n",
    "    category: all_categories.index[all_categories['name'] == category].values[0]\n",
    "    for category in ['gazellethomsons', 'giraffe', 'wildebeest', 'zebra']\n",
    "}\n",
    "our_categories"
   ]
  },
  {
   "cell_type": "code",
   "execution_count": 16,
   "id": "50263902-05cb-4f51-9044-bf614ba35f69",
   "metadata": {},
   "outputs": [
    {
     "name": "stdout",
     "output_type": "stream",
     "text": [
      "There are 112264 annotations matching our 4 categories of interest.\n"
     ]
    }
   ],
   "source": [
    "our_annotations = all_annotations[all_annotations['category_id'].isin(our_categories.values())]\n",
    "print(f\"There are {len(our_annotations)} annotations matching our 4 categories of interest.\")"
   ]
  },
  {
   "cell_type": "code",
   "execution_count": 17,
   "id": "bcd8ecf6-8dbe-46b8-bb7a-e0d774bcdffc",
   "metadata": {},
   "outputs": [
    {
     "data": {
      "text/plain": [
       "category_id\n",
       "7     64706\n",
       "18    26308\n",
       "5     17533\n",
       "13     3717\n",
       "dtype: int64"
      ]
     },
     "execution_count": 17,
     "metadata": {},
     "output_type": "execute_result"
    }
   ],
   "source": [
    "our_annotations.value_counts('category_id')"
   ]
  },
  {
   "cell_type": "markdown",
   "id": "d9593097-cf4f-46e8-99a0-7e578990c18f",
   "metadata": {},
   "source": [
    "### Take a balanced sample and save metadata files for our reduced list\n",
    "\n",
    "Do most of the work in the first cell, making extensive use of free line breaks on chained operations within parens.\n",
    "Note the random seed in the sampling step!"
   ]
  },
  {
   "cell_type": "code",
   "execution_count": 18,
   "id": "bd7e726d-18e1-4034-9869-68a1e864dc15",
   "metadata": {},
   "outputs": [
    {
     "data": {
      "text/html": [
       "<div>\n",
       "<style scoped>\n",
       "    .dataframe tbody tr th:only-of-type {\n",
       "        vertical-align: middle;\n",
       "    }\n",
       "\n",
       "    .dataframe tbody tr th {\n",
       "        vertical-align: top;\n",
       "    }\n",
       "\n",
       "    .dataframe thead th {\n",
       "        text-align: right;\n",
       "    }\n",
       "</style>\n",
       "<table border=\"1\" class=\"dataframe\">\n",
       "  <thead>\n",
       "    <tr style=\"text-align: right;\">\n",
       "      <th></th>\n",
       "      <th>file_path</th>\n",
       "      <th>location</th>\n",
       "      <th>datetime</th>\n",
       "      <th>category_name</th>\n",
       "      <th>file_name</th>\n",
       "    </tr>\n",
       "  </thead>\n",
       "  <tbody>\n",
       "    <tr>\n",
       "      <th>0</th>\n",
       "      <td>SER_S11/D03/D03_R2/SER_S11_D03_R2_IMAG0047.JPG</td>\n",
       "      <td>D03</td>\n",
       "      <td>2015-10-16 13:27:27</td>\n",
       "      <td>zebra</td>\n",
       "      <td>SER_S11_D03_R2_IMAG0047.JPG</td>\n",
       "    </tr>\n",
       "    <tr>\n",
       "      <th>1</th>\n",
       "      <td>SER_S11/C02/C02_R1/SER_S11_C02_R1_IMAG0616.JPG</td>\n",
       "      <td>C02</td>\n",
       "      <td>2015-09-09 18:53:19</td>\n",
       "      <td>zebra</td>\n",
       "      <td>SER_S11_C02_R1_IMAG0616.JPG</td>\n",
       "    </tr>\n",
       "    <tr>\n",
       "      <th>2</th>\n",
       "      <td>SER_S11/C12/C12_R1/SER_S11_C12_R1_IMAG0538.JPG</td>\n",
       "      <td>C12</td>\n",
       "      <td>2015-10-05 17:59:57</td>\n",
       "      <td>zebra</td>\n",
       "      <td>SER_S11_C12_R1_IMAG0538.JPG</td>\n",
       "    </tr>\n",
       "    <tr>\n",
       "      <th>3</th>\n",
       "      <td>SER_S11/P11/P11_R2/SER_S11_P11_R2_IMAG1279.JPG</td>\n",
       "      <td>P11</td>\n",
       "      <td>2015-11-21 20:00:52</td>\n",
       "      <td>zebra</td>\n",
       "      <td>SER_S11_P11_R2_IMAG1279.JPG</td>\n",
       "    </tr>\n",
       "    <tr>\n",
       "      <th>4</th>\n",
       "      <td>SER_S11/E04/E04_R1/SER_S11_E04_R1_IMAG0516.JPG</td>\n",
       "      <td>E04</td>\n",
       "      <td>2015-09-07 08:53:21</td>\n",
       "      <td>zebra</td>\n",
       "      <td>SER_S11_E04_R1_IMAG0516.JPG</td>\n",
       "    </tr>\n",
       "  </tbody>\n",
       "</table>\n",
       "</div>"
      ],
      "text/plain": [
       "                                        file_path location  \\\n",
       "0  SER_S11/D03/D03_R2/SER_S11_D03_R2_IMAG0047.JPG      D03   \n",
       "1  SER_S11/C02/C02_R1/SER_S11_C02_R1_IMAG0616.JPG      C02   \n",
       "2  SER_S11/C12/C12_R1/SER_S11_C12_R1_IMAG0538.JPG      C12   \n",
       "3  SER_S11/P11/P11_R2/SER_S11_P11_R2_IMAG1279.JPG      P11   \n",
       "4  SER_S11/E04/E04_R1/SER_S11_E04_R1_IMAG0516.JPG      E04   \n",
       "\n",
       "              datetime category_name                    file_name  \n",
       "0  2015-10-16 13:27:27         zebra  SER_S11_D03_R2_IMAG0047.JPG  \n",
       "1  2015-09-09 18:53:19         zebra  SER_S11_C02_R1_IMAG0616.JPG  \n",
       "2  2015-10-05 17:59:57         zebra  SER_S11_C12_R1_IMAG0538.JPG  \n",
       "3  2015-11-21 20:00:52         zebra  SER_S11_P11_R2_IMAG1279.JPG  \n",
       "4  2015-09-07 08:53:21         zebra  SER_S11_E04_R1_IMAG0516.JPG  "
      ]
     },
     "execution_count": 18,
     "metadata": {},
     "output_type": "execute_result"
    }
   ],
   "source": [
    "our_metadata = (\n",
    "    our_annotations\n",
    "    .groupby('category_id')\n",
    "    .apply(pd.DataFrame.sample, n=1000, random_state=42)\n",
    "    .reset_index(drop=True)\n",
    "    [['category_id', 'image_id']]\n",
    "    .merge(all_images, left_on = 'image_id', right_on = 'id')\n",
    "    [['category_id', 'file_name', 'location', 'datetime']]\n",
    "    .merge(\n",
    "        (\n",
    "            pd.DataFrame.from_dict(our_categories, orient='index', columns = ['category_id'])\n",
    "            .reset_index()\n",
    "            .rename({'index': 'category_name'}, axis=1)\n",
    "        ),\n",
    "        on='category_id'\n",
    "    )\n",
    "    .drop('category_id', axis=1)\n",
    "    .rename({'file_name': 'file_path'}, axis=1)\n",
    ")\n",
    "our_metadata['file_name'] = our_metadata['file_path'].apply(os.path.basename)\n",
    "our_metadata.head()"
   ]
  },
  {
   "cell_type": "code",
   "execution_count": 19,
   "id": "5e924562-42d4-4d71-810a-6140417c792d",
   "metadata": {},
   "outputs": [
    {
     "data": {
      "text/plain": [
       "category_name\n",
       "zebra              1000\n",
       "wildebeest         1000\n",
       "giraffe            1000\n",
       "gazellethomsons    1000\n",
       "dtype: int64"
      ]
     },
     "execution_count": 19,
     "metadata": {},
     "output_type": "execute_result"
    }
   ],
   "source": [
    "# Make sure this came out like we expect, 1000 of each\n",
    "our_metadata.value_counts('category_name')"
   ]
  },
  {
   "cell_type": "code",
   "execution_count": 20,
   "id": "5488cea9-9df3-462a-b2fe-586961af876a",
   "metadata": {},
   "outputs": [],
   "source": [
    "# We will only need the file path while downloading, so don't include it in the final metadata file\n",
    "reduced_metadata_path = os.path.join(ORIGINAL_DATA_PATH, 'reduced_metadata.csv')\n",
    "our_metadata.to_csv(\n",
    "    reduced_metadata_path, \n",
    "    index=False\n",
    ")"
   ]
  },
  {
   "cell_type": "code",
   "execution_count": 21,
   "id": "4223300c-42b3-486d-af25-d5f970e12141",
   "metadata": {},
   "outputs": [
    {
     "name": "stdout",
     "output_type": "stream",
     "text": [
      "file_path,location,datetime,category_name,file_name\n",
      "SER_S11/D03/D03_R2/SER_S11_D03_R2_IMAG0047.JPG,D03,2015-10-16 13:27:27,zebra,SER_S11_D03_R2_IMAG0047.JPG\n",
      "SER_S11/C02/C02_R1/SER_S11_C02_R1_IMAG0616.JPG,C02,2015-09-09 18:53:19,zebra,SER_S11_C02_R1_IMAG0616.JPG\n",
      "SER_S11/C12/C12_R1/SER_S11_C12_R1_IMAG0538.JPG,C12,2015-10-05 17:59:57,zebra,SER_S11_C12_R1_IMAG0538.JPG\n",
      "SER_S11/P11/P11_R2/SER_S11_P11_R2_IMAG1279.JPG,P11,2015-11-21 20:00:52,zebra,SER_S11_P11_R2_IMAG1279.JPG\n",
      "SER_S11/E04/E04_R1/SER_S11_E04_R1_IMAG0516.JPG,E04,2015-09-07 08:53:21,zebra,SER_S11_E04_R1_IMAG0516.JPG\n",
      "SER_S11/H01/H01_R1/SER_S11_H01_R1_IMAG0172.JPG,H01,2015-08-08 14:23:33,zebra,SER_S11_H01_R1_IMAG0172.JPG\n",
      "SER_S11/F04/F04_R1/SER_S11_F04_R1_IMAG0146.JPG,F04,2015-08-14 18:42:27,zebra,SER_S11_F04_R1_IMAG0146.JPG\n",
      "SER_S11/E04/E04_R1/SER_S11_E04_R1_IMAG0386.JPG,E04,2015-08-29 13:24:07,zebra,SER_S11_E04_R1_IMAG0386.JPG\n",
      "SER_S11/K03/K03_R1/SER_S11_K03_R1_IMAG1514.JPG,K03,2015-09-15 18:34:30,zebra,SER_S11_K03_R1_IMAG1514.JPG\n"
     ]
    }
   ],
   "source": [
    "!head $ORIGINAL_DATA_PATH/'reduced_metadata.csv'"
   ]
  },
  {
   "cell_type": "markdown",
   "id": "6f2df7f4-0471-44da-b26f-89ef499d0ab7",
   "metadata": {},
   "source": [
    "## Download individual images"
   ]
  },
  {
   "cell_type": "markdown",
   "id": "f2cc867e-6a5f-4e35-8dfa-01d9cbce4197",
   "metadata": {},
   "source": [
    "### Download azcopy"
   ]
  },
  {
   "cell_type": "code",
   "execution_count": 22,
   "id": "133b8c6b-d2ed-40ba-99da-d33832a676e4",
   "metadata": {},
   "outputs": [
    {
     "name": "stdout",
     "output_type": "stream",
     "text": [
      "--2022-08-20 22:31:57--  https://aka.ms/downloadazcopy-v10-linux\n",
      "Resolving aka.ms (aka.ms)... 104.86.5.150\n",
      "Connecting to aka.ms (aka.ms)|104.86.5.150|:443... connected.\n",
      "HTTP request sent, awaiting response... 301 Moved Permanently\n",
      "Location: https://azcopyvnext.azureedge.net/release20220721/azcopy_linux_amd64_10.16.0.tar.gz [following]\n",
      "--2022-08-20 22:31:58--  https://azcopyvnext.azureedge.net/release20220721/azcopy_linux_amd64_10.16.0.tar.gz\n",
      "Resolving azcopyvnext.azureedge.net (azcopyvnext.azureedge.net)... 23.213.34.169, 23.213.34.191, 2600:1405:800::6864:a831, ...\n",
      "Connecting to azcopyvnext.azureedge.net (azcopyvnext.azureedge.net)|23.213.34.169|:443... connected.\n",
      "HTTP request sent, awaiting response... 200 OK\n",
      "Length: 12590201 (12M) [application/gzip]\n",
      "Saving to: ‘/domino/datasets/local/Deep-Learning-Tutorial/original_data/downloadazcopy-v10-linux’\n",
      "\n",
      "downloadazcopy-v10- 100%[===================>]  12.01M  --.-KB/s    in 0.1s    \n",
      "\n",
      "2022-08-20 22:31:58 (109 MB/s) - ‘/domino/datasets/local/Deep-Learning-Tutorial/original_data/downloadazcopy-v10-linux’ saved [12590201/12590201]\n",
      "\n"
     ]
    }
   ],
   "source": [
    "!wget \"https://aka.ms/downloadazcopy-v10-linux\" -P $ORIGINAL_DATA_PATH"
   ]
  },
  {
   "cell_type": "code",
   "execution_count": 23,
   "id": "cd984750-0db8-4a46-91f9-3078a6941b85",
   "metadata": {},
   "outputs": [
    {
     "name": "stdout",
     "output_type": "stream",
     "text": [
      "azcopy_linux_amd64_10.16.0/\n",
      "azcopy_linux_amd64_10.16.0/NOTICE.txt\n",
      "azcopy_linux_amd64_10.16.0/azcopy\n"
     ]
    }
   ],
   "source": [
    "!cd $ORIGINAL_DATA_PATH; tar -xvf $ORIGINAL_DATA_PATH/downloadazcopy-v10-linux"
   ]
  },
  {
   "cell_type": "markdown",
   "id": "46764c99-3be3-4f89-a0c4-2bdf2342caa5",
   "metadata": {},
   "source": [
    "### Download the files\n",
    "This is the meaty step!\n",
    "Note that we specify the full path in the URL source, but we use only the file name on the destination path.\n",
    "This avoids redundant nesting folder structure and keeps things a bit neater.\n",
    "\n",
    "The naive download loop is slow, but simple, and checks for existing files so it can be restarted if interrupted.\n",
    "If interrupted, even if kernel is restarted, the notebook can be resumed from this section."
   ]
  },
  {
   "cell_type": "code",
   "execution_count": 1,
   "id": "ff26d819-939e-4dc9-9203-4c03ab122718",
   "metadata": {},
   "outputs": [],
   "source": [
    "# Repeat necessary stuff from earlier sections - be careful if any of these paths get edited\n",
    "import os\n",
    "import pandas as pd\n",
    "\n",
    "DATASET_ROOT_PATH = f\"/domino/datasets/local/{os.environ['DOMINO_PROJECT_NAME']}\"\n",
    "ORIGINAL_DATA_PATH = os.path.join(DATASET_ROOT_PATH, 'original_data')\n",
    "reduced_metadata_path = os.path.join(ORIGINAL_DATA_PATH, 'reduced_metadata.csv')"
   ]
  },
  {
   "cell_type": "code",
   "execution_count": 2,
   "id": "6a0ea02b-908d-436e-9482-8a9f7a7c3480",
   "metadata": {},
   "outputs": [],
   "source": [
    "AZCOPY_PATH = f\"{ORIGINAL_DATA_PATH}/azcopy_linux_amd64_10.16.0/azcopy\""
   ]
  },
  {
   "cell_type": "code",
   "execution_count": 3,
   "id": "b2446b59-1c21-4cc6-800d-02478b0a7539",
   "metadata": {},
   "outputs": [],
   "source": [
    "IMAGES_FOLDER = os.path.join(ORIGINAL_DATA_PATH, 'images')\n",
    "if not os.path.exists(IMAGES_FOLDER):\n",
    "    os.mkdir(IMAGES_FOLDER)"
   ]
  },
  {
   "cell_type": "code",
   "execution_count": 4,
   "id": "9e731b08-dcba-4a42-bf98-0c89285ab2a5",
   "metadata": {},
   "outputs": [
    {
     "data": {
      "text/html": [
       "<div>\n",
       "<style scoped>\n",
       "    .dataframe tbody tr th:only-of-type {\n",
       "        vertical-align: middle;\n",
       "    }\n",
       "\n",
       "    .dataframe tbody tr th {\n",
       "        vertical-align: top;\n",
       "    }\n",
       "\n",
       "    .dataframe thead th {\n",
       "        text-align: right;\n",
       "    }\n",
       "</style>\n",
       "<table border=\"1\" class=\"dataframe\">\n",
       "  <thead>\n",
       "    <tr style=\"text-align: right;\">\n",
       "      <th></th>\n",
       "      <th>file_path</th>\n",
       "      <th>location</th>\n",
       "      <th>datetime</th>\n",
       "      <th>category_name</th>\n",
       "      <th>file_name</th>\n",
       "    </tr>\n",
       "  </thead>\n",
       "  <tbody>\n",
       "    <tr>\n",
       "      <th>0</th>\n",
       "      <td>SER_S11/D03/D03_R2/SER_S11_D03_R2_IMAG0047.JPG</td>\n",
       "      <td>D03</td>\n",
       "      <td>2015-10-16 13:27:27</td>\n",
       "      <td>zebra</td>\n",
       "      <td>SER_S11_D03_R2_IMAG0047.JPG</td>\n",
       "    </tr>\n",
       "    <tr>\n",
       "      <th>1</th>\n",
       "      <td>SER_S11/C02/C02_R1/SER_S11_C02_R1_IMAG0616.JPG</td>\n",
       "      <td>C02</td>\n",
       "      <td>2015-09-09 18:53:19</td>\n",
       "      <td>zebra</td>\n",
       "      <td>SER_S11_C02_R1_IMAG0616.JPG</td>\n",
       "    </tr>\n",
       "    <tr>\n",
       "      <th>2</th>\n",
       "      <td>SER_S11/C12/C12_R1/SER_S11_C12_R1_IMAG0538.JPG</td>\n",
       "      <td>C12</td>\n",
       "      <td>2015-10-05 17:59:57</td>\n",
       "      <td>zebra</td>\n",
       "      <td>SER_S11_C12_R1_IMAG0538.JPG</td>\n",
       "    </tr>\n",
       "    <tr>\n",
       "      <th>3</th>\n",
       "      <td>SER_S11/P11/P11_R2/SER_S11_P11_R2_IMAG1279.JPG</td>\n",
       "      <td>P11</td>\n",
       "      <td>2015-11-21 20:00:52</td>\n",
       "      <td>zebra</td>\n",
       "      <td>SER_S11_P11_R2_IMAG1279.JPG</td>\n",
       "    </tr>\n",
       "    <tr>\n",
       "      <th>4</th>\n",
       "      <td>SER_S11/E04/E04_R1/SER_S11_E04_R1_IMAG0516.JPG</td>\n",
       "      <td>E04</td>\n",
       "      <td>2015-09-07 08:53:21</td>\n",
       "      <td>zebra</td>\n",
       "      <td>SER_S11_E04_R1_IMAG0516.JPG</td>\n",
       "    </tr>\n",
       "  </tbody>\n",
       "</table>\n",
       "</div>"
      ],
      "text/plain": [
       "                                        file_path location  \\\n",
       "0  SER_S11/D03/D03_R2/SER_S11_D03_R2_IMAG0047.JPG      D03   \n",
       "1  SER_S11/C02/C02_R1/SER_S11_C02_R1_IMAG0616.JPG      C02   \n",
       "2  SER_S11/C12/C12_R1/SER_S11_C12_R1_IMAG0538.JPG      C12   \n",
       "3  SER_S11/P11/P11_R2/SER_S11_P11_R2_IMAG1279.JPG      P11   \n",
       "4  SER_S11/E04/E04_R1/SER_S11_E04_R1_IMAG0516.JPG      E04   \n",
       "\n",
       "              datetime category_name                    file_name  \n",
       "0  2015-10-16 13:27:27         zebra  SER_S11_D03_R2_IMAG0047.JPG  \n",
       "1  2015-09-09 18:53:19         zebra  SER_S11_C02_R1_IMAG0616.JPG  \n",
       "2  2015-10-05 17:59:57         zebra  SER_S11_C12_R1_IMAG0538.JPG  \n",
       "3  2015-11-21 20:00:52         zebra  SER_S11_P11_R2_IMAG1279.JPG  \n",
       "4  2015-09-07 08:53:21         zebra  SER_S11_E04_R1_IMAG0516.JPG  "
      ]
     },
     "execution_count": 4,
     "metadata": {},
     "output_type": "execute_result"
    }
   ],
   "source": [
    "our_metadata_for_downloads = pd.read_csv(reduced_metadata_path)\n",
    "N_IMAGES = len(our_metadata_for_downloads)\n",
    "our_metadata_for_downloads.head()"
   ]
  },
  {
   "cell_type": "code",
   "execution_count": 5,
   "id": "bfc9139a-0489-43d8-b772-d4e6be5ec183",
   "metadata": {},
   "outputs": [],
   "source": [
    "def download_image(metadata_row):\n",
    "    url = f\"https://lilablobssc.blob.core.windows.net/snapshotserengeti-unzipped/{metadata_row['file_path']}\"\n",
    "    dest_path = os.path.join(IMAGES_FOLDER, metadata_row['file_name'])\n",
    "    print(f\"Downloading {metadata_row.name + 1}/{N_IMAGES} ({metadata_row['file_name']})\\r\", end='')\n",
    "    if not os.path.isfile(dest_path):\n",
    "        os.system(f\"{AZCOPY_PATH} cp {url} {dest_path}\")"
   ]
  },
  {
   "cell_type": "code",
   "execution_count": 6,
   "id": "0b8fa569-4fe4-468d-aa70-d5f6d4233b7b",
   "metadata": {},
   "outputs": [
    {
     "name": "stdout",
     "output_type": "stream",
     "text": [
      "Downloading 4000/4000 (SER_S11_O07_R1_IMAG02515.JPG)\n",
      "FINISHED\n"
     ]
    }
   ],
   "source": [
    "our_metadata_for_downloads.apply(download_image, axis=1)\n",
    "print('\\nFINISHED') "
   ]
  },
  {
   "cell_type": "code",
   "execution_count": null,
   "id": "2489c264-ac76-489b-ac74-b3cdc8a3f800",
   "metadata": {},
   "outputs": [],
   "source": []
  }
 ],
 "metadata": {
  "kernelspec": {
   "display_name": "Python 3",
   "language": "python",
   "name": "python3"
  },
  "language_info": {
   "codemirror_mode": {
    "name": "ipython",
    "version": 3
   },
   "file_extension": ".py",
   "mimetype": "text/x-python",
   "name": "python",
   "nbconvert_exporter": "python",
   "pygments_lexer": "ipython3",
   "version": "3.8.5"
  }
 },
 "nbformat": 4,
 "nbformat_minor": 5
}
