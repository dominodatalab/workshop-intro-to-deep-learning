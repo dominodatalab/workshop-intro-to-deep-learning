{
 "cells": [
  {
   "cell_type": "markdown",
   "metadata": {},
   "source": [
    "# Improving Training Speed\n",
    "\n",
    "This notebook follows the same basic structure as the previous one, training a pre-trained model on reduced data.\n",
    "\n",
    "We'll make a number of changes designed to make our model training MUCH faster.\n",
    "Since PyTorch gives us so much control, our decisions can greatly increase or decrease training time."
   ]
  },
  {
   "cell_type": "markdown",
   "metadata": {},
   "source": [
    "### Package imports"
   ]
  },
  {
   "cell_type": "code",
   "execution_count": 1,
   "metadata": {},
   "outputs": [],
   "source": [
    "import os\n",
    "import time\n",
    "import numpy as np\n",
    "import pandas as pd\n",
    "import matplotlib.pyplot as plt\n",
    "\n",
    "# Imports for loading data into pytorch\n",
    "import torch\n",
    "from torch.utils.data import DataLoader, Dataset\n",
    "from torchvision.io import read_image\n",
    "from torchvision import transforms as T\n",
    "\n",
    "# Imports for model training\n",
    "from sklearn.model_selection import train_test_split\n",
    "from torch import nn\n",
    "import torch.optim as optim\n",
    "import torchvision.models as models"
   ]
  },
  {
   "cell_type": "markdown",
   "metadata": {},
   "source": [
    "## Load Data\n",
    "\n",
    "Remember to edit the below paths to the data if needed."
   ]
  },
  {
   "cell_type": "code",
   "execution_count": 2,
   "metadata": {},
   "outputs": [],
   "source": [
    "data_root_dir = '/domino/datasets/Serengeti4kImages'\n",
    "#data_root_dir = '/domino/datasets/local/Serengeti4kImages'\n",
    "img_dir = os.path.join(data_root_dir, 'images')\n",
    "metadata_file = os.path.join(data_root_dir, 'reduced_metadata.csv')"
   ]
  },
  {
   "cell_type": "markdown",
   "metadata": {},
   "source": [
    "### Read in metadata and define training and test sets"
   ]
  },
  {
   "cell_type": "code",
   "execution_count": 3,
   "metadata": {},
   "outputs": [
    {
     "name": "stdout",
     "output_type": "stream",
     "text": [
      "There are 4000 images total\n"
     ]
    }
   ],
   "source": [
    "# Read in metadata and ensure it is shuffled\n",
    "metadata = pd.read_csv(metadata_file).sample(frac=1, random_state=42).reset_index(drop=True)\n",
    "# Define mappings from label name to index, for \n",
    "category_name_to_id = {\n",
    "    'zebra': 0,\n",
    "    'giraffe': 1,\n",
    "    'wildebeest': 2,\n",
    "    'gazellethomsons': 3\n",
    "}\n",
    "category_id_to_name = {v: k for k,v in category_name_to_id.items()}\n",
    "metadata['category_id'] = metadata['category_name'].apply(lambda x: category_name_to_id[x])\n",
    "print(f\"There are {len(metadata)} images total\")\n",
    "#metadata.head()"
   ]
  },
  {
   "cell_type": "code",
   "execution_count": 4,
   "metadata": {},
   "outputs": [],
   "source": [
    "# must be less than 1000\n",
    "samples_per_class = 100\n",
    "\n",
    "small_metadata = (\n",
    "    metadata\n",
    "    .groupby('category_name')\n",
    "    .apply(pd.DataFrame.sample, n=samples_per_class, random_state=42)\n",
    "    .reset_index(drop=True)\n",
    ")\n",
    "#small_metadata['category_name'].value_counts()"
   ]
  },
  {
   "cell_type": "code",
   "execution_count": 5,
   "metadata": {},
   "outputs": [],
   "source": [
    "train_indices, val_indices = train_test_split(\n",
    "    small_metadata.index,\n",
    "    stratify=small_metadata['category_name'],\n",
    "    test_size=0.2,\n",
    "    random_state=42\n",
    ")"
   ]
  },
  {
   "cell_type": "code",
   "execution_count": 6,
   "metadata": {},
   "outputs": [],
   "source": [
    "small_train_metadata = small_metadata.iloc[train_indices].reset_index(drop=True)\n",
    "#print(\"Train counts\")\n",
    "#small_train_metadata['category_name'].value_counts()"
   ]
  },
  {
   "cell_type": "code",
   "execution_count": 7,
   "metadata": {},
   "outputs": [],
   "source": [
    "small_val_metadata = small_metadata.iloc[val_indices].reset_index(drop=True)\n",
    "#print(\"Val counts\")\n",
    "#small_val_metadata['category_name'].value_counts()"
   ]
  },
  {
   "cell_type": "markdown",
   "metadata": {},
   "source": [
    "### Create PyTorch Dataset and DataLoader\n",
    "\n",
    "The `SnapshotSerengetiDataset` class definition is the same as used in the previous notebook.\n",
    "Later in this notebook we'll make some performance improvements!"
   ]
  },
  {
   "cell_type": "code",
   "execution_count": 8,
   "metadata": {},
   "outputs": [],
   "source": [
    "class SnapshotSerengetiDataset(Dataset):\n",
    "    def __init__(self, img_metadata, img_dir, transform=None):\n",
    "        # Do some basic validation\n",
    "        required_columns = ['category_id', 'file_name']\n",
    "        if not all([x in img_metadata.columns for x in required_columns]):\n",
    "            raise Exception(f\"img_metadata must be a dataframe including columns {', '.join(required_columns)}\")\n",
    "        if not os.path.isdir(img_dir):\n",
    "            raise Exception(\"img_dir must be a valid directory\")\n",
    "        self.img_metadata = img_metadata\n",
    "        self.img_dir = img_dir\n",
    "        self.transform = transform\n",
    "\n",
    "    def __len__(self):\n",
    "        return len(self.img_metadata)\n",
    "        \n",
    "    def __getitem__(self, idx):\n",
    "        item_metadata = self.img_metadata.iloc[idx]\n",
    "        image_path = os.path.join(self.img_dir, item_metadata['file_name'])\n",
    "        image = read_image(image_path)\n",
    "        image = torch.mul(image, 1/255.) # scale to [0, 1]\n",
    "        if self.transform:\n",
    "            image = self.transform(image)\n",
    "        label_idx = item_metadata['category_id']\n",
    "        one_hot_label = (\n",
    "            torch.zeros(len(category_id_to_name), dtype=torch.float)\n",
    "            .scatter_(dim=0, index=torch.tensor(label_idx), value=1)\n",
    "        )\n",
    "        return image, one_hot_label"
   ]
  },
  {
   "cell_type": "code",
   "execution_count": 9,
   "metadata": {},
   "outputs": [],
   "source": [
    "#These resize and normalize transforms will allow our data to be used with pre-trained networks in later notebooks\n",
    "standard_transform = T.Compose([\n",
    "    T.Resize(256),\n",
    "    T.CenterCrop(224),\n",
    "    T.ConvertImageDtype(torch.float32),\n",
    "    T.Normalize(mean=[0.485, 0.456, 0.406],std=[0.229, 0.224, 0.225])\n",
    "])"
   ]
  },
  {
   "cell_type": "code",
   "execution_count": 10,
   "metadata": {},
   "outputs": [],
   "source": [
    "train_dataset = SnapshotSerengetiDataset(small_train_metadata, img_dir, transform=standard_transform)\n",
    "val_dataset = SnapshotSerengetiDataset(small_val_metadata, img_dir, transform=standard_transform)"
   ]
  },
  {
   "cell_type": "code",
   "execution_count": 11,
   "metadata": {},
   "outputs": [],
   "source": [
    "batch_size = 40\n",
    "train_loader = DataLoader(train_dataset, batch_size=batch_size)\n",
    "val_loader = DataLoader(val_dataset, batch_size=batch_size)"
   ]
  },
  {
   "cell_type": "markdown",
   "metadata": {},
   "source": [
    "## Transfer learning - using GPUs!\n",
    "\n",
    "The first change we'll make is the addition of GPUs.\n",
    "It's best practice to use a command like the one below instead of hard-coding GPUs, so your code can still run (very slowly!) on a cpu-only machine.\n",
    "Then, just add a command to each of the training functions to move the model and data `to(device)`."
   ]
  },
  {
   "cell_type": "code",
   "execution_count": 12,
   "metadata": {},
   "outputs": [
    {
     "name": "stdout",
     "output_type": "stream",
     "text": [
      "Using cuda device\n"
     ]
    }
   ],
   "source": [
    "device = 'cuda' if torch.cuda.is_available() else 'cpu'\n",
    "print('Using {} device'.format(device))"
   ]
  },
  {
   "cell_type": "code",
   "execution_count": 13,
   "metadata": {},
   "outputs": [],
   "source": [
    "def load_pretrained_model():\n",
    "    model = models.resnet50(pretrained=True)\n",
    "    model.fc = nn.Linear(model.fc.in_features, len(category_id_to_name)) # Rescale fully-connected layer output size\n",
    "    num_frozen_layers = 9\n",
    "\n",
    "    # Freeze `num_frozen_layers`\n",
    "    layer = 0\n",
    "    for child in model.children():\n",
    "        layer += 1\n",
    "        if layer <= num_frozen_layers:\n",
    "            for param in child.parameters():\n",
    "                param.requires_grad = False\n",
    "    print('Number of unfrozen layers: ' + str(layer-num_frozen_layers))\n",
    "    return model.to(device)"
   ]
  },
  {
   "cell_type": "code",
   "execution_count": 14,
   "metadata": {},
   "outputs": [],
   "source": [
    "def train(dataloader, model, loss_fn, optimizer, quiet=False):\n",
    "    model.train() # Set model to training mode\n",
    "    size = len(dataloader.dataset)\n",
    "    num_batches = len(dataloader)\n",
    "    train_loss, num_correct = [], 0\n",
    "    for batch, (X, y) in enumerate(dataloader):\n",
    "        X, y = X.to(device), y.to(device)\n",
    "        \n",
    "        # Compute prediction error\n",
    "        pred = model(X)\n",
    "        loss = loss_fn(pred, y)\n",
    "\n",
    "        # Backpropagation\n",
    "        optimizer.zero_grad()\n",
    "        loss.backward()\n",
    "        optimizer.step()\n",
    "\n",
    "        # String formatting choices here are tuned to this small sample\n",
    "        if not quiet:\n",
    "            print(f\"Batch {batch+1}/{num_batches} loss: {loss.item():>7f}  [{(batch+1)*len(X):>3d}/{size:>3d}]\")\n",
    "        train_loss.append(loss.item())\n",
    "        num_correct += (pred.argmax(1) == y.argmax(1)).type(torch.float).sum().item()\n",
    "\n",
    "    # Return final results for loss and accuracy\n",
    "    avg_train_loss = np.mean(train_loss)\n",
    "    train_accuracy = 100*num_correct/size\n",
    "    print(f\"Train Accuracy: {train_accuracy:>0.1f}%, Avg loss: {avg_train_loss:>8f}\")\n",
    "    return avg_train_loss, train_accuracy"
   ]
  },
  {
   "cell_type": "code",
   "execution_count": 15,
   "metadata": {},
   "outputs": [],
   "source": [
    "def test(dataloader, model, loss_fn, quiet=False):\n",
    "    model.eval() # Set model to evaluate mode\n",
    "    size = len(dataloader.dataset)\n",
    "    num_batches = len(dataloader)\n",
    "    test_loss, num_correct = [], 0\n",
    "    with torch.no_grad():\n",
    "        for batch, (X, y) in enumerate(dataloader):\n",
    "            X, y = X.to(device), y.to(device)\n",
    "            pred = model(X)\n",
    "            loss = loss_fn(pred, y)\n",
    "            # String formatting choices here are tuned to this small sample\n",
    "            if not quiet:\n",
    "                print(f\"Batch {batch+1}/{num_batches} loss: {loss.item():>7f}  [{(batch+1)*len(X):>3d}/{size:>3d}]\")\n",
    "            test_loss.append(loss.item())\n",
    "            num_correct += (pred.argmax(1) == y.argmax(1)).type(torch.float).sum().item()\n",
    "    avg_test_loss = np.mean(test_loss)\n",
    "    test_accuracy = 100*num_correct/size\n",
    "    print(f\"Test Accuracy: {test_accuracy:>0.1f}%, Avg loss: {avg_test_loss:>8f}\")\n",
    "    return avg_test_loss, test_accuracy"
   ]
  },
  {
   "cell_type": "markdown",
   "metadata": {},
   "source": [
    "### Model traing loop on GPUs\n",
    "\n",
    "Let's run the same model training loop as the previous notebook, and see how much GPUs speed things up.\n",
    "(Assuming the same reduced data set, same batch size, same models, we expect the previous notebook loop to have taken about 165 seconds while this cell takes about 55 seconds.)"
   ]
  },
  {
   "cell_type": "code",
   "execution_count": 16,
   "metadata": {},
   "outputs": [
    {
     "name": "stdout",
     "output_type": "stream",
     "text": [
      "Number of unfrozen layers: 1\n",
      "=====Epoch 1/2=====\n",
      "Train Accuracy: 27.5%, Avg loss: 0.609574\n",
      "Test Accuracy: 40.0%, Avg loss: 0.572357\n",
      "Cumulative time elapsed: 25.9\n",
      "=====Epoch 2/2=====\n",
      "Train Accuracy: 50.9%, Avg loss: 0.562381\n",
      "Test Accuracy: 60.0%, Avg loss: 0.511993\n",
      "Cumulative time elapsed: 50.8\n",
      "-------------------------------\n",
      "Done! Total time elapsed: 50.8s\n"
     ]
    }
   ],
   "source": [
    "model = load_pretrained_model()\n",
    "loss_fn = nn.BCEWithLogitsLoss()\n",
    "optimizer = optim.SGD(model.parameters(), lr=5e-3, momentum=0.9, weight_decay=5e-3)\n",
    "n_epochs = 2\n",
    "learning_curve = pd.DataFrame(index=range(n_epochs), columns=['train_loss', 'train_acc', 'val_loss', 'val_acc'])\n",
    "since = time.time()\n",
    "for epoch in range(n_epochs):\n",
    "    print(f\"=====Epoch {epoch+1}/{n_epochs}=====\")\n",
    "    train_loss, train_acc = train(train_loader, model, loss_fn, optimizer, quiet=True)\n",
    "    val_loss, val_acc = test(val_loader, model, loss_fn, quiet=True)\n",
    "    learning_curve.loc[epoch] = (train_loss, train_acc, val_loss, val_acc)\n",
    "    print(f\"Cumulative time elapsed: {time.time() - since:.1f}\")\n",
    "total_training_time = time.time() - since\n",
    "print(f\"-------------------------------\\nDone! Total time elapsed: {total_training_time:.1f}s\")"
   ]
  },
  {
   "cell_type": "markdown",
   "metadata": {},
   "source": [
    "## Profiling\n",
    "\n",
    "In software development, you don't want to put effort into making something faster unless you know that the part you are working on is the bottleneck.\n",
    "Now that we have made the \"obvious\" improvement of using GPUs, we should do some more digging to find out what part of our code is the slowest.\n",
    "\n",
    "Pytorch has some tools to help with this, but `line_profiler` is a great Jupyter extension to profile functions line-by-line.\n",
    "Let's use it to dig into the train function."
   ]
  },
  {
   "cell_type": "code",
   "execution_count": 17,
   "metadata": {},
   "outputs": [],
   "source": [
    "# May need to run this cell if line profiler is not already installed\n",
    "#!pip install line_profiler"
   ]
  },
  {
   "cell_type": "code",
   "execution_count": 18,
   "metadata": {},
   "outputs": [],
   "source": [
    "%load_ext line_profiler"
   ]
  },
  {
   "cell_type": "code",
   "execution_count": 19,
   "metadata": {},
   "outputs": [
    {
     "name": "stdout",
     "output_type": "stream",
     "text": [
      "Number of unfrozen layers: 1\n"
     ]
    }
   ],
   "source": [
    "test_model = load_pretrained_model()\n",
    "optimizer = optim.SGD(test_model.parameters(), lr=5e-3, momentum=0.9, weight_decay=5e-3)"
   ]
  },
  {
   "cell_type": "code",
   "execution_count": 20,
   "metadata": {},
   "outputs": [
    {
     "name": "stdout",
     "output_type": "stream",
     "text": [
      "Train Accuracy: 29.7%, Avg loss: 0.610899\n"
     ]
    },
    {
     "data": {
      "text/plain": [
       "Timer unit: 1e-06 s\n",
       "\n",
       "Total time: 20.0166 s\n",
       "File: <ipython-input-14-41fa1fdfc354>\n",
       "Function: train at line 1\n",
       "\n",
       "Line #      Hits         Time  Per Hit   % Time  Line Contents\n",
       "==============================================================\n",
       "     1                                           def train(dataloader, model, loss_fn, optimizer, quiet=False):\n",
       "     2         1       1711.0   1711.0      0.0      model.train() # Set model to training mode\n",
       "     3         1         19.0     19.0      0.0      size = len(dataloader.dataset)\n",
       "     4         1         18.0     18.0      0.0      num_batches = len(dataloader)\n",
       "     5         1          2.0      2.0      0.0      train_loss, num_correct = [], 0\n",
       "     6         9   19659560.0 2184395.6     98.2      for batch, (X, y) in enumerate(dataloader):\n",
       "     7         8      22781.0   2847.6      0.1          X, y = X.to(device), y.to(device)\n",
       "     8                                                   \n",
       "     9                                                   # Compute prediction error\n",
       "    10         8     214265.0  26783.1      1.1          pred = model(X)\n",
       "    11         8       1967.0    245.9      0.0          loss = loss_fn(pred, y)\n",
       "    12                                           \n",
       "    13                                                   # Backpropagation\n",
       "    14         8       9509.0   1188.6      0.0          optimizer.zero_grad()\n",
       "    15         8       3602.0    450.2      0.0          loss.backward()\n",
       "    16         8      11055.0   1381.9      0.1          optimizer.step()\n",
       "    17                                           \n",
       "    18                                                   # String formatting choices here are tuned to this small sample\n",
       "    19         8         19.0      2.4      0.0          if not quiet:\n",
       "    20                                                       print(f\"Batch {batch+1}/{num_batches} loss: {loss.item():>7f}  [{(batch+1)*len(X):>3d}/{size:>3d}]\")\n",
       "    21         8      90077.0  11259.6      0.5          train_loss.append(loss.item())\n",
       "    22         8       1747.0    218.4      0.0          num_correct += (pred.argmax(1) == y.argmax(1)).type(torch.float).sum().item()\n",
       "    23                                           \n",
       "    24                                               # Return final results for loss and accuracy\n",
       "    25         1        109.0    109.0      0.0      avg_train_loss = np.mean(train_loss)\n",
       "    26         1          3.0      3.0      0.0      train_accuracy = 100*num_correct/size\n",
       "    27         1        170.0    170.0      0.0      print(f\"Train Accuracy: {train_accuracy:>0.1f}%, Avg loss: {avg_train_loss:>8f}\")\n",
       "    28         1          2.0      2.0      0.0      return avg_train_loss, train_accuracy"
      ]
     },
     "metadata": {},
     "output_type": "display_data"
    }
   ],
   "source": [
    "%lprun -f train train(train_loader, test_model, loss_fn, optimizer, quiet=True)"
   ]
  },
  {
   "cell_type": "markdown",
   "metadata": {},
   "source": [
    "### Investigating data load performance\n",
    "\n",
    "From the above profiling, we can see that the vast majority of time is being spent simply loading the data.\n",
    "We can guess that the slowest part of the process will happen somewhere inside the `__get_item__` method of our dataset class, so let's write a benchmarking function to run through those steps separately."
   ]
  },
  {
   "cell_type": "code",
   "execution_count": 21,
   "metadata": {},
   "outputs": [],
   "source": [
    "def get_item_bench(idx):\n",
    "    item_metadata = small_train_metadata.iloc[idx]\n",
    "    image_path = os.path.join(img_dir, item_metadata['file_name'])\n",
    "    image = read_image(image_path)\n",
    "    image = torch.mul(image, 1/255.) # scale to [0, 1]\n",
    "    image = standard_transform(image)\n",
    "    label_idx = item_metadata['category_id']\n",
    "    one_hot_label = (torch.zeros(len(category_id_to_name),dtype=torch.float)\n",
    "                     .scatter_(dim=0, index=torch.tensor(label_idx), value=1))"
   ]
  },
  {
   "cell_type": "code",
   "execution_count": 22,
   "metadata": {},
   "outputs": [
    {
     "data": {
      "text/plain": [
       "Timer unit: 1e-06 s\n",
       "\n",
       "Total time: 0.051844 s\n",
       "File: <ipython-input-21-fec3ed2acf93>\n",
       "Function: get_item_bench at line 1\n",
       "\n",
       "Line #      Hits         Time  Per Hit   % Time  Line Contents\n",
       "==============================================================\n",
       "     1                                           def get_item_bench(idx):\n",
       "     2         1        566.0    566.0      1.1      item_metadata = small_train_metadata.iloc[idx]\n",
       "     3         1         54.0     54.0      0.1      image_path = os.path.join(img_dir, item_metadata['file_name'])\n",
       "     4         1      30270.0  30270.0     58.4      image = read_image(image_path)\n",
       "     5         1      15577.0  15577.0     30.0      image = torch.mul(image, 1/255.) # scale to [0, 1]\n",
       "     6         1       5237.0   5237.0     10.1      image = standard_transform(image)\n",
       "     7         1         63.0     63.0      0.1      label_idx = item_metadata['category_id']\n",
       "     8         2         52.0     26.0      0.1      one_hot_label = (torch.zeros(len(category_id_to_name),dtype=torch.float)\n",
       "     9         1         25.0     25.0      0.0                       .scatter_(dim=0, index=torch.tensor(label_idx), value=1))"
      ]
     },
     "metadata": {},
     "output_type": "display_data"
    }
   ],
   "source": [
    "%lprun -f get_item_bench get_item_bench(0)"
   ]
  },
  {
   "cell_type": "markdown",
   "metadata": {},
   "source": [
    "### Improving data load performance\n",
    "\n",
    "About 2/3 of the time is spent on the `read_image` step, and most of the remaining 1/3 is spent on the image transformations.\n",
    "Let's try modifying this function to **cache** transformed images directly in the pytorch tensor format.\n",
    "\n",
    "Run the following benchmark twice to see the performance improvement between the first call (before the image is cached) and the second (after the image is cached).\n",
    "Expect the first call to take about 0.1 seconds total (longer than the original function), while any subsequent call takes less than 0.005 seconds!"
   ]
  },
  {
   "cell_type": "code",
   "execution_count": 23,
   "metadata": {},
   "outputs": [],
   "source": [
    "# Modify path as needed if not running this from a Domino project with a default dataset folder\n",
    "test_cache_dir = f\"/domino/datasets/local/Serengeti4kImages/test_image_cache\"\n",
    "if not os.path.isdir(test_cache_dir):\n",
    "    os.mkdir(test_cache_dir)"
   ]
  },
  {
   "cell_type": "code",
   "execution_count": 24,
   "metadata": {},
   "outputs": [],
   "source": [
    "def get_cached_item_bench(idx):\n",
    "    item_metadata = small_train_metadata.iloc[idx]\n",
    "    cache_path = os.path.join(test_cache_dir, item_metadata['file_name'] + '.pt')\n",
    "    image_path = os.path.join(img_dir, item_metadata['file_name'])\n",
    "    if not os.path.isfile(cache_path):    \n",
    "        image = read_image(image_path)\n",
    "        image = torch.mul(image, 1/255.) # scale to [0, 1]\n",
    "        image = standard_transform(image)\n",
    "        torch.save(image, cache_path)\n",
    "    image = torch.load(cache_path)\n",
    "    label_idx = item_metadata['category_id']\n",
    "    one_hot_label = (torch.zeros(len(category_id_to_name), dtype=torch.float)\n",
    "                     .scatter_(dim=0, index=torch.tensor(label_idx), value=1))"
   ]
  },
  {
   "cell_type": "code",
   "execution_count": 26,
   "metadata": {},
   "outputs": [
    {
     "data": {
      "text/plain": [
       "Timer unit: 1e-06 s\n",
       "\n",
       "Total time: 0.004279 s\n",
       "File: <ipython-input-24-855f6ed6afd8>\n",
       "Function: get_cached_item_bench at line 1\n",
       "\n",
       "Line #      Hits         Time  Per Hit   % Time  Line Contents\n",
       "==============================================================\n",
       "     1                                           def get_cached_item_bench(idx):\n",
       "     2         1        573.0    573.0     13.4      item_metadata = small_train_metadata.iloc[idx]\n",
       "     3         1         56.0     56.0      1.3      cache_path = os.path.join(test_cache_dir, item_metadata['file_name'] + '.pt')\n",
       "     4         1         21.0     21.0      0.5      image_path = os.path.join(img_dir, item_metadata['file_name'])\n",
       "     5         1        962.0    962.0     22.5      if not os.path.isfile(cache_path):    \n",
       "     6                                                   image = read_image(image_path)\n",
       "     7                                                   image = torch.mul(image, 1/255.) # scale to [0, 1]\n",
       "     8                                                   image = standard_transform(image)\n",
       "     9                                                   torch.save(image, cache_path)\n",
       "    10         1       2540.0   2540.0     59.4      image = torch.load(cache_path)\n",
       "    11         1         40.0     40.0      0.9      label_idx = item_metadata['category_id']\n",
       "    12         2         66.0     33.0      1.5      one_hot_label = (torch.zeros(len(category_id_to_name), dtype=torch.float)\n",
       "    13         1         21.0     21.0      0.5                       .scatter_(dim=0, index=torch.tensor(label_idx), value=1))"
      ]
     },
     "metadata": {},
     "output_type": "display_data"
    }
   ],
   "source": [
    "%lprun -f get_cached_item_bench get_cached_item_bench(0)"
   ]
  },
  {
   "cell_type": "markdown",
   "metadata": {},
   "source": [
    "### Redefine SnapshotSerengetiDataset to implement caching\n",
    "\n",
    "The caching improved performance dramatically - with a bit more work the first time an image is read, each time afterwards is ten times as fast!\n",
    "So, let's implement it in a new `FastSnapshotSerengetiDataset` class.\n",
    "\n",
    "#### Some cautions\n",
    "\n",
    "There is a popular quote: \"There are only two hard problems in computer science: cache invalidation and naming things\".\n",
    "\n",
    "Because we're caching the image after performing the transformations, it's critical to keep in mind that this cache will no longer be valid for a different set of transformations!\n",
    "Our new `FastSnapshotSerengetiDataset` class below has no way of \"knowing\" this, so if you use a different set of transformations be sure to do one of the following:\n",
    "* Create a new empty cache folder to pass to `FastSnapshotSerengetiDataset`, OR\n",
    "* Delete the contents of the existing cache folder\n",
    "\n",
    "We've attempted to name the cache folder in a way that will remind us of this, by including our transform variable name."
   ]
  },
  {
   "cell_type": "code",
   "execution_count": 27,
   "metadata": {},
   "outputs": [],
   "source": [
    "cache_dir = f\"/domino/datasets/local/Serengeti4kImages/image_cache_standard_transform\"\n",
    "if not os.path.isdir(cache_dir):\n",
    "    os.mkdir(cache_dir)"
   ]
  },
  {
   "cell_type": "code",
   "execution_count": 28,
   "metadata": {},
   "outputs": [],
   "source": [
    "class FastSnapshotSerengetiDataset(Dataset):\n",
    "    def __init__(self, img_metadata, img_dir, cache_dir, transform=None):\n",
    "        # Do some basic validation\n",
    "        if not all([x in img_metadata.columns for x in ['category_id', 'file_name']]):\n",
    "            raise Exception('img_metadata must be a dataframe including columns \"category_name\" and \"file_name\"')\n",
    "        if not os.path.isdir(img_dir):\n",
    "            raise Exception('img_dir must be a valid directory')\n",
    "        if not os.path.isdir(cache_dir):\n",
    "            raise Exception('cache_dir must be a valid directory')\n",
    "        self.img_metadata = img_metadata\n",
    "        self.img_dir = img_dir\n",
    "        self.cache_dir = cache_dir\n",
    "        self.transform = transform\n",
    "\n",
    "    def __len__(self):\n",
    "        return len(self.img_metadata)\n",
    "        \n",
    "    def __cacheitem__(self, image_path, cache_path):\n",
    "        image = read_image(image_path)\n",
    "        image = torch.mul(image, 1/255.) # scale to [0, 1]\n",
    "        if self.transform:\n",
    "            image = self.transform(image)\n",
    "        torch.save(image, cache_path)\n",
    "\n",
    "    def __getitem__(self, idx):    \n",
    "        item_metadata = self.img_metadata.iloc[idx]\n",
    "        cache_path = os.path.join(self.cache_dir, item_metadata['file_name'] + '.pt')\n",
    "        if not os.path.isfile(cache_path):\n",
    "            image_path = os.path.join(self.img_dir, item_metadata['file_name'])\n",
    "            self.__cacheitem__(image_path, cache_path)\n",
    "        image = torch.load(cache_path)\n",
    "        label_idx = item_metadata['category_id']\n",
    "        one_hot_label = (\n",
    "            torch.zeros(len(category_id_to_name), dtype=torch.float)\n",
    "            .scatter_(dim=0, index=torch.tensor(label_idx), value=1)\n",
    "        )\n",
    "        return image, one_hot_label"
   ]
  },
  {
   "cell_type": "code",
   "execution_count": 29,
   "metadata": {},
   "outputs": [],
   "source": [
    "train_dataset_cached = FastSnapshotSerengetiDataset(small_train_metadata, img_dir, cache_dir, transform=standard_transform)\n",
    "val_dataset_cached = FastSnapshotSerengetiDataset(small_val_metadata, img_dir, cache_dir, transform=standard_transform)"
   ]
  },
  {
   "cell_type": "markdown",
   "metadata": {},
   "source": [
    "## Performance of Dataloaders\n",
    "\n",
    "Pytorch [dataloaders](https://pytorch.org/docs/stable/data.html#torch.utils.data.DataLoader) not only make it easier to feed data to a model, but also include a number of features that can be used to improve performance.\n",
    "\n",
    "The are two used here:\n",
    "* `num_workers` tells a dataloader how many parallel processes should run to prep data.\n",
    "* `pin_memory` puts data in page-locked memory, which makes copies of prepared batches to the GPU much faster.\n",
    "\n",
    "Be aware that with too many workers, these options can cause out of memory errors when training.\n",
    "This is an example of a common tradeoff when training neural networks (or any other machine learning algorithms) - holding data in memory is generally more performant than reading repeatedly from disk, but there is a limited amount of memory on any given machine."
   ]
  },
  {
   "cell_type": "code",
   "execution_count": 30,
   "metadata": {},
   "outputs": [],
   "source": [
    "#reduce num_workers if geting memories errors when training below\n",
    "num_workers = 2\n",
    "batch_size = 40\n",
    "train_loader_cached = DataLoader(train_dataset_cached, batch_size=batch_size, num_workers=num_workers, pin_memory=True)\n",
    "val_loader_cached = DataLoader(val_dataset_cached, batch_size=batch_size, num_workers=num_workers, pin_memory=True)"
   ]
  },
  {
   "cell_type": "markdown",
   "metadata": {},
   "source": [
    "## Final model training loop with caching and GPU\n",
    "\n",
    "Let's try the original model training loop again, with all the performance improvements. Pay particular attention to the time taken by the very first epoch (before any of the images are cached) and the second!"
   ]
  },
  {
   "cell_type": "code",
   "execution_count": 31,
   "metadata": {},
   "outputs": [
    {
     "name": "stdout",
     "output_type": "stream",
     "text": [
      "Number of unfrozen layers: 1\n",
      "=====Epoch 1/2=====\n",
      "Train Accuracy: 26.2%, Avg loss: 0.615154\n",
      "Test Accuracy: 37.5%, Avg loss: 0.574257\n",
      "Cumulative time elapsed: 31.4\n",
      "=====Epoch 2/2=====\n",
      "Train Accuracy: 38.1%, Avg loss: 0.568270\n",
      "Test Accuracy: 57.5%, Avg loss: 0.517959\n",
      "Cumulative time elapsed: 32.9\n",
      "-------------------------------\n",
      "Done! Total time elapsed: 32.9s\n"
     ]
    }
   ],
   "source": [
    "model = load_pretrained_model()\n",
    "loss_fn = nn.BCEWithLogitsLoss()\n",
    "optimizer = optim.SGD(model.parameters(), lr=5e-3, momentum=0.9, weight_decay=5e-3)\n",
    "n_epochs = 2\n",
    "learning_curve = pd.DataFrame(index=range(n_epochs), columns=['train_loss', 'train_acc', 'val_loss', 'val_acc'])\n",
    "since = time.time()\n",
    "for epoch in range(n_epochs):\n",
    "    print(f\"=====Epoch {epoch+1}/{n_epochs}=====\")\n",
    "    train_loss, train_acc = train(train_loader_cached, model, loss_fn, optimizer, quiet=True)\n",
    "    val_loss, val_acc = test(val_loader_cached, model, loss_fn, quiet=True)\n",
    "    learning_curve.loc[epoch] = (train_loss, train_acc, val_loss, val_acc)\n",
    "    print(f\"Cumulative time elapsed: {time.time() - since:.1f}\")\n",
    "total_training_time = time.time() - since\n",
    "print(f\"-------------------------------\\nDone! Total time elapsed: {total_training_time:.1f}s\")"
   ]
  },
  {
   "cell_type": "markdown",
   "metadata": {},
   "source": [
    "### Train for more epochs\n",
    "\n",
    "Now that the images are cached, we can train for many more epochs in a much shorter time!\n",
    "\n",
    "Notice that we are reloading the model again, but we are NOT resetting the image cache."
   ]
  },
  {
   "cell_type": "code",
   "execution_count": 32,
   "metadata": {},
   "outputs": [
    {
     "name": "stdout",
     "output_type": "stream",
     "text": [
      "Number of unfrozen layers: 1\n",
      "=====Epoch 1/25=====\n",
      "Train Accuracy: 26.9%, Avg loss: 0.601351\n",
      "Test Accuracy: 31.2%, Avg loss: 0.568748\n",
      "Cumulative time elapsed: 1.1\n",
      "=====Epoch 2/25=====\n",
      "Train Accuracy: 38.1%, Avg loss: 0.563454\n",
      "Test Accuracy: 58.8%, Avg loss: 0.520577\n",
      "Cumulative time elapsed: 2.2\n",
      "=====Epoch 3/25=====\n",
      "Train Accuracy: 61.9%, Avg loss: 0.509818\n",
      "Test Accuracy: 68.8%, Avg loss: 0.485723\n",
      "Cumulative time elapsed: 3.2\n",
      "=====Epoch 4/25=====\n",
      "Train Accuracy: 71.9%, Avg loss: 0.467764\n",
      "Test Accuracy: 70.0%, Avg loss: 0.457666\n",
      "Cumulative time elapsed: 4.3\n",
      "=====Epoch 5/25=====\n",
      "Train Accuracy: 75.0%, Avg loss: 0.437102\n",
      "Test Accuracy: 70.0%, Avg loss: 0.432928\n",
      "Cumulative time elapsed: 5.4\n",
      "=====Epoch 6/25=====\n",
      "Train Accuracy: 78.8%, Avg loss: 0.410016\n",
      "Test Accuracy: 71.2%, Avg loss: 0.412113\n",
      "Cumulative time elapsed: 6.5\n",
      "=====Epoch 7/25=====\n",
      "Train Accuracy: 78.1%, Avg loss: 0.389563\n",
      "Test Accuracy: 71.2%, Avg loss: 0.395715\n",
      "Cumulative time elapsed: 7.6\n",
      "=====Epoch 8/25=====\n",
      "Train Accuracy: 79.1%, Avg loss: 0.371932\n",
      "Test Accuracy: 71.2%, Avg loss: 0.382612\n",
      "Cumulative time elapsed: 8.7\n",
      "=====Epoch 9/25=====\n",
      "Train Accuracy: 80.0%, Avg loss: 0.357231\n",
      "Test Accuracy: 71.2%, Avg loss: 0.371818\n",
      "Cumulative time elapsed: 9.8\n",
      "=====Epoch 10/25=====\n",
      "Train Accuracy: 80.0%, Avg loss: 0.344931\n",
      "Test Accuracy: 71.2%, Avg loss: 0.362497\n",
      "Cumulative time elapsed: 10.9\n",
      "=====Epoch 11/25=====\n",
      "Train Accuracy: 81.2%, Avg loss: 0.333968\n",
      "Test Accuracy: 71.2%, Avg loss: 0.354789\n",
      "Cumulative time elapsed: 12.0\n",
      "=====Epoch 12/25=====\n",
      "Train Accuracy: 82.5%, Avg loss: 0.324510\n",
      "Test Accuracy: 71.2%, Avg loss: 0.348070\n",
      "Cumulative time elapsed: 13.1\n",
      "=====Epoch 13/25=====\n",
      "Train Accuracy: 83.1%, Avg loss: 0.316000\n",
      "Test Accuracy: 71.2%, Avg loss: 0.342237\n",
      "Cumulative time elapsed: 14.2\n",
      "=====Epoch 14/25=====\n",
      "Train Accuracy: 84.1%, Avg loss: 0.308329\n",
      "Test Accuracy: 71.2%, Avg loss: 0.337206\n",
      "Cumulative time elapsed: 15.3\n",
      "=====Epoch 15/25=====\n",
      "Train Accuracy: 83.8%, Avg loss: 0.301416\n",
      "Test Accuracy: 71.2%, Avg loss: 0.332705\n",
      "Cumulative time elapsed: 16.3\n",
      "=====Epoch 16/25=====\n",
      "Train Accuracy: 84.1%, Avg loss: 0.295046\n",
      "Test Accuracy: 72.5%, Avg loss: 0.328748\n",
      "Cumulative time elapsed: 17.4\n",
      "=====Epoch 17/25=====\n",
      "Train Accuracy: 84.4%, Avg loss: 0.289199\n",
      "Test Accuracy: 72.5%, Avg loss: 0.325233\n",
      "Cumulative time elapsed: 18.5\n",
      "=====Epoch 18/25=====\n",
      "Train Accuracy: 85.0%, Avg loss: 0.283792\n",
      "Test Accuracy: 72.5%, Avg loss: 0.322064\n",
      "Cumulative time elapsed: 19.6\n",
      "=====Epoch 19/25=====\n",
      "Train Accuracy: 85.6%, Avg loss: 0.278747\n",
      "Test Accuracy: 72.5%, Avg loss: 0.319232\n",
      "Cumulative time elapsed: 20.7\n",
      "=====Epoch 20/25=====\n",
      "Train Accuracy: 85.3%, Avg loss: 0.274041\n",
      "Test Accuracy: 73.8%, Avg loss: 0.316678\n",
      "Cumulative time elapsed: 21.8\n",
      "=====Epoch 21/25=====\n",
      "Train Accuracy: 85.3%, Avg loss: 0.269625\n",
      "Test Accuracy: 73.8%, Avg loss: 0.314362\n",
      "Cumulative time elapsed: 22.9\n",
      "=====Epoch 22/25=====\n",
      "Train Accuracy: 85.6%, Avg loss: 0.265464\n",
      "Test Accuracy: 73.8%, Avg loss: 0.312267\n",
      "Cumulative time elapsed: 24.0\n",
      "=====Epoch 23/25=====\n",
      "Train Accuracy: 85.9%, Avg loss: 0.261538\n",
      "Test Accuracy: 73.8%, Avg loss: 0.310361\n",
      "Cumulative time elapsed: 25.0\n",
      "=====Epoch 24/25=====\n",
      "Train Accuracy: 85.9%, Avg loss: 0.257819\n",
      "Test Accuracy: 73.8%, Avg loss: 0.308623\n",
      "Cumulative time elapsed: 26.1\n",
      "=====Epoch 25/25=====\n",
      "Train Accuracy: 85.9%, Avg loss: 0.254287\n",
      "Test Accuracy: 73.8%, Avg loss: 0.307038\n",
      "Cumulative time elapsed: 27.1\n",
      "-------------------------------\n",
      "Done! Total time elapsed: 27.1s\n"
     ]
    }
   ],
   "source": [
    "model = load_pretrained_model()\n",
    "loss_fn = nn.BCEWithLogitsLoss()\n",
    "optimizer = optim.SGD(model.parameters(), lr=5e-3, momentum=0.9, weight_decay=5e-3)\n",
    "n_epochs = 25\n",
    "learning_curve = pd.DataFrame(index=range(n_epochs), columns=['train_loss', 'train_acc', 'val_loss', 'val_acc'])\n",
    "since = time.time()\n",
    "for epoch in range(n_epochs):\n",
    "    print(f\"=====Epoch {epoch+1}/{n_epochs}=====\")\n",
    "    train_loss, train_acc = train(train_loader_cached, model, loss_fn, optimizer, quiet=True)\n",
    "    val_loss, val_acc = test(val_loader_cached, model, loss_fn, quiet=True)\n",
    "    learning_curve.loc[epoch] = (train_loss, train_acc, val_loss, val_acc)\n",
    "    print(f\"Cumulative time elapsed: {time.time() - since:.1f}\")\n",
    "total_training_time = time.time() - since\n",
    "print(f\"-------------------------------\\nDone! Total time elapsed: {total_training_time:.1f}s\")"
   ]
  },
  {
   "cell_type": "code",
   "execution_count": 33,
   "metadata": {},
   "outputs": [],
   "source": [
    "def plot_learning_curve(learning_curve):\n",
    "    fig, (ax1, ax2) = plt.subplots(2, 1, figsize=(6.4, 7))\n",
    "    x = learning_curve.index + 1\n",
    "    ax1.plot(x, learning_curve['train_acc'], label = 'training')\n",
    "    ax1.plot(x, learning_curve['val_acc'], label = 'validation')\n",
    "    ax1.axhline(100/len(category_name_to_id), label = 'random', c='r', ls=':')\n",
    "    ax1.axhline(100, label = 'perfect', c='g', ls=':')\n",
    "    ax1.legend()\n",
    "    ax1.set_ylabel('Accuracy')\n",
    "    ax1.set_xlabel('Epoch')\n",
    "    ax2.plot(x, learning_curve['train_loss'], label = 'training')\n",
    "    ax2.plot(x, learning_curve['val_loss'], label = 'validation')\n",
    "    ax2.legend()\n",
    "    ax2.set_ylabel('Loss')\n",
    "    ax2.set_xlabel('Epoch')"
   ]
  },
  {
   "cell_type": "code",
   "execution_count": 34,
   "metadata": {},
   "outputs": [
    {
     "data": {
      "image/png": "[encoded data removed]",
      "text/plain": [
       "<Figure size 460.8x504 with 2 Axes>"
      ]
     },
     "metadata": {
      "needs_background": "light"
     },
     "output_type": "display_data"
    }
   ],
   "source": [
    "plot_learning_curve(learning_curve)"
   ]
  },
  {
   "cell_type": "markdown",
   "metadata": {},
   "source": [
    "## System Utilization\n",
    "\n",
    "While a model is training, you may want to confirm that's it's making full use of your hardware. If it isn't, that's a sign that you can do things like train larger batches, a larger model, or do more things in parallel.\n",
    "\n",
    "`nvidia-smi` shows information about the GPUs in your system and their memory/processor usage.\n",
    "\n",
    "`top` is a commonly-used linux command showing the most active processes."
   ]
  },
  {
   "cell_type": "code",
   "execution_count": 35,
   "metadata": {},
   "outputs": [
    {
     "name": "stdout",
     "output_type": "stream",
     "text": [
      "Tue Aug 23 17:15:24 2022       \n",
      "+-----------------------------------------------------------------------------+\n",
      "| NVIDIA-SMI 470.141.03   Driver Version: 470.141.03   CUDA Version: 11.4     |\n",
      "|-------------------------------+----------------------+----------------------+\n",
      "| GPU  Name        Persistence-M| Bus-Id        Disp.A | Volatile Uncorr. ECC |\n",
      "| Fan  Temp  Perf  Pwr:Usage/Cap|         Memory-Usage | GPU-Util  Compute M. |\n",
      "|                               |                      |               MIG M. |\n",
      "|===============================+======================+======================|\n",
      "|   0  Tesla V100-SXM2...  Off  | 00000000:00:1E.0 Off |                    0 |\n",
      "| N/A   35C    P0    38W / 300W |   2033MiB / 16160MiB |      0%      Default |\n",
      "|                               |                      |                  N/A |\n",
      "+-------------------------------+----------------------+----------------------+\n",
      "                                                                               \n",
      "+-----------------------------------------------------------------------------+\n",
      "| Processes:                                                                  |\n",
      "|  GPU   GI   CI        PID   Type   Process name                  GPU Memory |\n",
      "|        ID   ID                                                   Usage      |\n",
      "|=============================================================================|\n",
      "+-----------------------------------------------------------------------------+\n"
     ]
    }
   ],
   "source": [
    "!nvidia-smi"
   ]
  },
  {
   "cell_type": "code",
   "execution_count": 36,
   "metadata": {},
   "outputs": [
    {
     "name": "stdout",
     "output_type": "stream",
     "text": [
      "\u001b[?1h\u001b=\u001b[H\u001b[2J\u001b[mtop - 17:15:28 up 26 min,  0 users,  load average: 2.37, 1.67, 1.58\u001b[m\u001b[m\u001b[m\u001b[m\u001b[K\n",
      "Tasks:\u001b[m\u001b[m\u001b[1m  11 \u001b[m\u001b[mtotal,\u001b[m\u001b[m\u001b[1m   1 \u001b[m\u001b[mrunning,\u001b[m\u001b[m\u001b[1m  10 \u001b[m\u001b[msleeping,\u001b[m\u001b[m\u001b[1m   0 \u001b[m\u001b[mstopped,\u001b[m\u001b[m\u001b[1m   0 \u001b[m\u001b[mzombie\u001b[m\u001b[m\u001b[m\u001b[m\u001b[K\n",
      "%Cpu(s):\u001b[m\u001b[m\u001b[1m  0.8 \u001b[m\u001b[mus,\u001b[m\u001b[m\u001b[1m  0.8 \u001b[m\u001b[msy,\u001b[m\u001b[m\u001b[1m  0.0 \u001b[m\u001b[mni,\u001b[m\u001b[m\u001b[1m 98.3 \u001b[m\u001b[mid,\u001b[m\u001b[m\u001b[1m  0.0 \u001b[m\u001b[mwa,\u001b[m\u001b[m\u001b[1m  0.0 \u001b[m\u001b[mhi,\u001b[m\u001b[m\u001b[1m  0.0 \u001b[m\u001b[msi,\u001b[m\u001b[m\u001b[1m  0.0 \u001b[m\u001b[mst\u001b[m\u001b[m\u001b[m\u001b[m\u001b[K\n",
      "MiB Mem :\u001b[m\u001b[m\u001b[1m  61287.0 \u001b[m\u001b[mtotal,\u001b[m\u001b[m\u001b[1m  19621.6 \u001b[m\u001b[mfree,\u001b[m\u001b[m\u001b[1m   4302.5 \u001b[m\u001b[mused,\u001b[m\u001b[m\u001b[1m  37362.9 \u001b[m\u001b[mbuff/cache\u001b[m\u001b[m\u001b[m\u001b[m\u001b[K\n",
      "MiB Swap:\u001b[m\u001b[m\u001b[1m      0.0 \u001b[m\u001b[mtotal,\u001b[m\u001b[m\u001b[1m      0.0 \u001b[m\u001b[mfree,\u001b[m\u001b[m\u001b[1m      0.0 \u001b[m\u001b[mused.\u001b[m\u001b[m\u001b[1m  56305.8 \u001b[m\u001b[mavail Mem \u001b[m\u001b[m\u001b[m\u001b[m\u001b[K\n",
      "\u001b[K\n",
      "\u001b[7m    PID USER      PR  NI    VIRT    RES    SHR S  %CPU  %MEM     TIME+ COMMAND  \u001b[m\u001b[m\u001b[K\n",
      "\u001b[m      1 root      20   0    8844   3656   3280 S   0.0   0.0   0:00.10 runLaun+ \u001b[m\u001b[m\u001b[K\n",
      "\u001b[m    277 ubuntu    20   0    8844   3932   3528 S   0.0   0.0   0:00.01 command+ \u001b[m\u001b[m\u001b[K\n",
      "\u001b[m    331 ubuntu    20   0    7120   3580   3232 S   0.0   0.0   0:00.00 start    \u001b[m\u001b[m\u001b[K\n",
      "\u001b[m    334 ubuntu    20   0    8844   1768   1364 S   0.0   0.0   0:00.00 command+ \u001b[m\u001b[m\u001b[K\n",
      "\u001b[m    335 ubuntu    20   0    8844   1768   1364 S   0.0   0.0   0:00.00 command+ \u001b[m\u001b[m\u001b[K\n",
      "\u001b[m    336 ubuntu    20   0    5508    540    464 S   0.0   0.0   0:00.00 tee      \u001b[m\u001b[m\u001b[K\n",
      "\u001b[m    339 ubuntu    20   0    5508    536    456 S   0.0   0.0   0:00.00 tee      \u001b[m\u001b[m\u001b[K\n",
      "\u001b[m    360 ubuntu    20   0  691752 125544  26992 S   0.0   0.2   0:07.83 jupyter+ \u001b[m\u001b[m\u001b[K\n",
      "\u001b[m    447 ubuntu    20   0   15.0g   3.7g   1.3g S   0.0   6.2   2:56.67 python   \u001b[m\u001b[m\u001b[K\n",
      "\u001b[m   1021 ubuntu    20   0    2632    560    476 S   0.0   0.0   0:00.60 dash     \u001b[m\u001b[m\u001b[K\n",
      "\u001b[m\u001b[1m   1022 ubuntu    20   0    9132   3808   3292 R   0.0   0.0   0:00.00 top      \u001b[m\u001b[m\u001b[K\n",
      "\u001b[J\u001b[?1l\u001b>\u001b[25;1H\n",
      "\u001b[K"
     ]
    }
   ],
   "source": [
    "!top -n 1"
   ]
  },
  {
   "cell_type": "markdown",
   "metadata": {},
   "source": [
    "## Cleanup\n",
    "\n",
    "You may occasionally need to run the following command to clear cached data from the GPU between model trainings.\n",
    "\n",
    "This does not affect our cache of pretransformed images, since those were saved to disk.\n",
    "\n",
    "If you see high memory usage in the `nvidia-smi` output above you can try running it and then running `nvidia-smi` again to see the difference."
   ]
  },
  {
   "cell_type": "code",
   "execution_count": 37,
   "metadata": {},
   "outputs": [],
   "source": [
    "torch.cuda.empty_cache()"
   ]
  },
  {
   "cell_type": "code",
   "execution_count": null,
   "metadata": {},
   "outputs": [],
   "source": []
  }
 ],
 "metadata": {
  "kernelspec": {
   "display_name": "Python 3",
   "language": "python",
   "name": "python3"
  },
  "language_info": {
   "codemirror_mode": {
    "name": "ipython",
    "version": 3
   },
   "file_extension": ".py",
   "mimetype": "text/x-python",
   "name": "python",
   "nbconvert_exporter": "python",
   "pygments_lexer": "ipython3",
   "version": "3.8.5"
  }
 },
 "nbformat": 4,
 "nbformat_minor": 4
}
