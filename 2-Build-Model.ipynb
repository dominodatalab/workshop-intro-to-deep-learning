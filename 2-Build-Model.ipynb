{
 "cells": [
  {
   "cell_type": "markdown",
   "metadata": {},
   "source": [
    "# Building the Model\n",
    "\n",
    "In this notebook, we will train our first model!"
   ]
  },
  {
   "cell_type": "markdown",
   "metadata": {},
   "source": [
    "### Package imports"
   ]
  },
  {
   "cell_type": "code",
   "execution_count": 1,
   "metadata": {},
   "outputs": [],
   "source": [
    "import os\n",
    "import time\n",
    "import numpy as np\n",
    "import pandas as pd\n",
    "import matplotlib.pyplot as plt\n",
    "\n",
    "# Imports for loading data into pytorch\n",
    "import torch\n",
    "from torch.utils.data import DataLoader, Dataset\n",
    "from torchvision.io import read_image\n",
    "from torchvision import transforms as T\n",
    "\n",
    "# Imports for model training\n",
    "from sklearn.model_selection import train_test_split\n",
    "from torch import nn\n",
    "import torch.optim as optim\n",
    "import torchvision.models as models"
   ]
  },
  {
   "cell_type": "markdown",
   "metadata": {},
   "source": [
    "## Load Data\n",
    "\n",
    "But first, we need to repeat the data loading steps from the previous notebook, with a few key changes:\n",
    "* Create reduced train and validation subsets. Our first model training will be very slow, so we use a very small subset of the data.\n",
    "* Set up the DataLoader with a more realistic batch size for model training on those subsets.\n",
    "\n",
    "Remember to edit the below paths to the data if needed."
   ]
  },
  {
   "cell_type": "code",
   "execution_count": 2,
   "metadata": {},
   "outputs": [],
   "source": [
    "data_root_dir = '/domino/datasets/Serengeti4kImages'\n",
    "#data_root_dir = '/domino/datasets/local/Serengeti4kImages'\n",
    "img_dir = os.path.join(data_root_dir, 'images')\n",
    "metadata_file = os.path.join(data_root_dir, 'reduced_metadata.csv')"
   ]
  },
  {
   "cell_type": "markdown",
   "metadata": {},
   "source": [
    "### Read in metadata and define training and test sets\n",
    "\n",
    "Most of this code is copied from the previous notebook.\n",
    "The main change is that we are taking a reduced sample of the 4000 images and splitting it into training and validation sets.\n",
    "\n",
    "Notice that we are using familiar sklearn functions here and working only with the metadata file.\n",
    "Nothing here is actually torch-specific until we initialize the `SnapshotSerengetiDataset` for train and validation."
   ]
  },
  {
   "cell_type": "code",
   "execution_count": 3,
   "metadata": {},
   "outputs": [
    {
     "name": "stdout",
     "output_type": "stream",
     "text": [
      "There are 4000 images total\n"
     ]
    },
    {
     "data": {
      "text/html": [
       "<div>\n",
       "<style scoped>\n",
       "    .dataframe tbody tr th:only-of-type {\n",
       "        vertical-align: middle;\n",
       "    }\n",
       "\n",
       "    .dataframe tbody tr th {\n",
       "        vertical-align: top;\n",
       "    }\n",
       "\n",
       "    .dataframe thead th {\n",
       "        text-align: right;\n",
       "    }\n",
       "</style>\n",
       "<table border=\"1\" class=\"dataframe\">\n",
       "  <thead>\n",
       "    <tr style=\"text-align: right;\">\n",
       "      <th></th>\n",
       "      <th>file_path</th>\n",
       "      <th>location</th>\n",
       "      <th>datetime</th>\n",
       "      <th>category_name</th>\n",
       "      <th>file_name</th>\n",
       "      <th>category_id</th>\n",
       "    </tr>\n",
       "  </thead>\n",
       "  <tbody>\n",
       "    <tr>\n",
       "      <th>0</th>\n",
       "      <td>SER_S11/B03/B03_R1/SER_S11_B03_R1_IMAG0223.JPG</td>\n",
       "      <td>B03</td>\n",
       "      <td>2015-08-19 11:11:10</td>\n",
       "      <td>zebra</td>\n",
       "      <td>SER_S11_B03_R1_IMAG0223.JPG</td>\n",
       "      <td>0</td>\n",
       "    </tr>\n",
       "    <tr>\n",
       "      <th>1</th>\n",
       "      <td>SER_S11/E09/E09_R1/SER_S11_E09_R1_IMAG0512.JPG</td>\n",
       "      <td>E09</td>\n",
       "      <td>2015-09-02 12:40:25</td>\n",
       "      <td>gazellethomsons</td>\n",
       "      <td>SER_S11_E09_R1_IMAG0512.JPG</td>\n",
       "      <td>3</td>\n",
       "    </tr>\n",
       "    <tr>\n",
       "      <th>2</th>\n",
       "      <td>SER_S11/O09/O09_R1/SER_S11_O09_R1_IMAG1019.JPG</td>\n",
       "      <td>O09</td>\n",
       "      <td>2015-10-31 15:27:34</td>\n",
       "      <td>zebra</td>\n",
       "      <td>SER_S11_O09_R1_IMAG1019.JPG</td>\n",
       "      <td>0</td>\n",
       "    </tr>\n",
       "    <tr>\n",
       "      <th>3</th>\n",
       "      <td>SER_S11/O07/O07_R1/SER_S11_O07_R1_IMAG02679.JPG</td>\n",
       "      <td>O07</td>\n",
       "      <td>2015-09-08 11:22:57</td>\n",
       "      <td>gazellethomsons</td>\n",
       "      <td>SER_S11_O07_R1_IMAG02679.JPG</td>\n",
       "      <td>3</td>\n",
       "    </tr>\n",
       "    <tr>\n",
       "      <th>4</th>\n",
       "      <td>SER_S11/K06/K06_R2/SER_S11_K06_R2_IMAG0650.JPG</td>\n",
       "      <td>K06</td>\n",
       "      <td>2015-11-08 09:13:59</td>\n",
       "      <td>wildebeest</td>\n",
       "      <td>SER_S11_K06_R2_IMAG0650.JPG</td>\n",
       "      <td>2</td>\n",
       "    </tr>\n",
       "  </tbody>\n",
       "</table>\n",
       "</div>"
      ],
      "text/plain": [
       "                                         file_path location  \\\n",
       "0   SER_S11/B03/B03_R1/SER_S11_B03_R1_IMAG0223.JPG      B03   \n",
       "1   SER_S11/E09/E09_R1/SER_S11_E09_R1_IMAG0512.JPG      E09   \n",
       "2   SER_S11/O09/O09_R1/SER_S11_O09_R1_IMAG1019.JPG      O09   \n",
       "3  SER_S11/O07/O07_R1/SER_S11_O07_R1_IMAG02679.JPG      O07   \n",
       "4   SER_S11/K06/K06_R2/SER_S11_K06_R2_IMAG0650.JPG      K06   \n",
       "\n",
       "              datetime    category_name                     file_name  \\\n",
       "0  2015-08-19 11:11:10            zebra   SER_S11_B03_R1_IMAG0223.JPG   \n",
       "1  2015-09-02 12:40:25  gazellethomsons   SER_S11_E09_R1_IMAG0512.JPG   \n",
       "2  2015-10-31 15:27:34            zebra   SER_S11_O09_R1_IMAG1019.JPG   \n",
       "3  2015-09-08 11:22:57  gazellethomsons  SER_S11_O07_R1_IMAG02679.JPG   \n",
       "4  2015-11-08 09:13:59       wildebeest   SER_S11_K06_R2_IMAG0650.JPG   \n",
       "\n",
       "   category_id  \n",
       "0            0  \n",
       "1            3  \n",
       "2            0  \n",
       "3            3  \n",
       "4            2  "
      ]
     },
     "execution_count": 3,
     "metadata": {},
     "output_type": "execute_result"
    }
   ],
   "source": [
    "# Read in metadata and ensure it is shuffled\n",
    "metadata = pd.read_csv(metadata_file).sample(frac=1, random_state=42).reset_index(drop=True)\n",
    "# Define mappings from label name to index, for \n",
    "category_name_to_id = {\n",
    "    'zebra': 0,\n",
    "    'giraffe': 1,\n",
    "    'wildebeest': 2,\n",
    "    'gazellethomsons': 3\n",
    "}\n",
    "category_id_to_name = {v: k for k,v in category_name_to_id.items()}\n",
    "metadata['category_id'] = metadata['category_name'].apply(lambda x: category_name_to_id[x])\n",
    "print(f\"There are {len(metadata)} images total\")\n",
    "metadata.head()"
   ]
  },
  {
   "cell_type": "code",
   "execution_count": 4,
   "metadata": {},
   "outputs": [
    {
     "data": {
      "text/plain": [
       "giraffe            100\n",
       "wildebeest         100\n",
       "zebra              100\n",
       "gazellethomsons    100\n",
       "Name: category_name, dtype: int64"
      ]
     },
     "execution_count": 4,
     "metadata": {},
     "output_type": "execute_result"
    }
   ],
   "source": [
    "# must be less than 1000\n",
    "samples_per_class = 100\n",
    "\n",
    "small_metadata = (\n",
    "    metadata\n",
    "    .groupby('category_name')\n",
    "    .apply(pd.DataFrame.sample, n=samples_per_class, random_state=42)\n",
    "    .reset_index(drop=True)\n",
    ")\n",
    "small_metadata['category_name'].value_counts()"
   ]
  },
  {
   "cell_type": "code",
   "execution_count": 5,
   "metadata": {},
   "outputs": [],
   "source": [
    "train_indices, val_indices = train_test_split(\n",
    "    small_metadata.index,\n",
    "    stratify=small_metadata['category_name'],\n",
    "    test_size=0.2,\n",
    "    random_state=42\n",
    ")"
   ]
  },
  {
   "cell_type": "code",
   "execution_count": 6,
   "metadata": {},
   "outputs": [
    {
     "name": "stdout",
     "output_type": "stream",
     "text": [
      "Train counts\n"
     ]
    },
    {
     "data": {
      "text/plain": [
       "wildebeest         80\n",
       "giraffe            80\n",
       "zebra              80\n",
       "gazellethomsons    80\n",
       "Name: category_name, dtype: int64"
      ]
     },
     "execution_count": 6,
     "metadata": {},
     "output_type": "execute_result"
    }
   ],
   "source": [
    "small_train_metadata = small_metadata.iloc[train_indices].reset_index(drop=True)\n",
    "print(\"Train counts\")\n",
    "small_train_metadata['category_name'].value_counts()"
   ]
  },
  {
   "cell_type": "code",
   "execution_count": 7,
   "metadata": {},
   "outputs": [
    {
     "name": "stdout",
     "output_type": "stream",
     "text": [
      "Val counts\n"
     ]
    },
    {
     "data": {
      "text/plain": [
       "wildebeest         20\n",
       "gazellethomsons    20\n",
       "giraffe            20\n",
       "zebra              20\n",
       "Name: category_name, dtype: int64"
      ]
     },
     "execution_count": 7,
     "metadata": {},
     "output_type": "execute_result"
    }
   ],
   "source": [
    "small_val_metadata = small_metadata.iloc[val_indices].reset_index(drop=True)\n",
    "print(\"Val counts\")\n",
    "small_val_metadata['category_name'].value_counts()"
   ]
  },
  {
   "cell_type": "markdown",
   "metadata": {},
   "source": [
    "### Create Pytorch Dataset and DataLoader\n",
    "\n",
    "The `SnapshotSerengetiDataset` class definition is the same as used in the previous notebook.\n",
    "All we have to change here is to pass the reduced metadata for train and test samples when initializing the Datasets."
   ]
  },
  {
   "cell_type": "code",
   "execution_count": 8,
   "metadata": {},
   "outputs": [],
   "source": [
    "class SnapshotSerengetiDataset(Dataset):\n",
    "    def __init__(self, img_metadata, img_dir, transform=None):\n",
    "        # Do some basic validation\n",
    "        required_columns = ['category_id', 'file_name']\n",
    "        if not all([x in img_metadata.columns for x in required_columns]):\n",
    "            raise Exception(f\"img_metadata must be a dataframe including columns {', '.join(required_columns)}\")\n",
    "        if not os.path.isdir(img_dir):\n",
    "            raise Exception(\"img_dir must be a valid directory\")\n",
    "        self.img_metadata = img_metadata\n",
    "        self.img_dir = img_dir\n",
    "        self.transform = transform\n",
    "\n",
    "    def __len__(self):\n",
    "        return len(self.img_metadata)\n",
    "        \n",
    "    def __getitem__(self, idx):\n",
    "        item_metadata = self.img_metadata.iloc[idx]\n",
    "        image_path = os.path.join(self.img_dir, item_metadata['file_name'])\n",
    "        image = read_image(image_path)\n",
    "        image = torch.mul(image, 1/255.) # scale to [0, 1]\n",
    "        if self.transform:\n",
    "            image = self.transform(image)\n",
    "        label_idx = item_metadata['category_id']\n",
    "        one_hot_label = (\n",
    "            torch.zeros(len(category_id_to_name), dtype=torch.float)\n",
    "            .scatter_(dim=0, index=torch.tensor(label_idx), value=1)\n",
    "        )\n",
    "        return image, one_hot_label"
   ]
  },
  {
   "cell_type": "code",
   "execution_count": 9,
   "metadata": {},
   "outputs": [],
   "source": [
    "#These resize and normalize transforms will allow our data to be used with pre-trained networks in later notebooks\n",
    "standard_transform = T.Compose([\n",
    "    T.Resize(256),\n",
    "    T.CenterCrop(224),\n",
    "    T.ConvertImageDtype(torch.float32),\n",
    "    T.Normalize(mean=[0.485, 0.456, 0.406],std=[0.229, 0.224, 0.225])\n",
    "])"
   ]
  },
  {
   "cell_type": "code",
   "execution_count": 10,
   "metadata": {},
   "outputs": [],
   "source": [
    "train_dataset = SnapshotSerengetiDataset(small_train_metadata, img_dir, transform=standard_transform)\n",
    "val_dataset = SnapshotSerengetiDataset(small_val_metadata, img_dir, transform=standard_transform)"
   ]
  },
  {
   "cell_type": "code",
   "execution_count": 11,
   "metadata": {},
   "outputs": [],
   "source": [
    "batch_size = 40\n",
    "train_loader = DataLoader(train_dataset, batch_size=batch_size)\n",
    "val_loader = DataLoader(val_dataset, batch_size=batch_size)"
   ]
  },
  {
   "cell_type": "markdown",
   "metadata": {},
   "source": [
    "## Transfer Learning\n",
    "\n",
    "Although it's good to understand the relevant deep learning model components (e.g. convolutional layers, ReLU) you generally don't need to build an architecture from scratch.\n",
    "\n",
    "Instead, you can find a model **architecture** that has already been proven to perform well on a similar problem and start with that!\n",
    "\n",
    "To facilitate this, pytorch has a library of popular and state-of-the-art model architectures that you can import into your project.\n",
    "We'll use the resnet50 architecture here, because it has been shown to work well for animal recognition.\n",
    "\n",
    "Large models can require a lot of data and are expensive to train, even when you have a predefined architecture.\n",
    "One common approach to mitigate this is **transfer learning**.\n",
    "Transfer learning is using what was learned for one task to solve a different task.\n",
    "In other words, we can re-use not only the model architecture, but some of the model **weights** that were trained on a different dataset."
   ]
  },
  {
   "cell_type": "markdown",
   "metadata": {},
   "source": [
    "### Load pretrained model\n",
    "\n",
    "Here, we use pytorch's pretrained resnet50 (trained on the popular 1000-class ImageNet database), loosely following the example [in the PyTorch docs](https://pytorch.org/tutorials/beginner/transfer_learning_tutorial.html).\n",
    "To exclude the pretrained features of the model from training we freeze all but the final layer, which maps the features to the number of expected classes.\n",
    "We also change the final layer to have an output neuron for each species class.\n",
    "This means our model training will only be fitting weights in the final layer."
   ]
  },
  {
   "cell_type": "code",
   "execution_count": 12,
   "metadata": {},
   "outputs": [],
   "source": [
    "def load_pretrained_model():\n",
    "    model = models.resnet50(pretrained=True)\n",
    "    model.fc = nn.Linear(model.fc.in_features, len(category_id_to_name)) # Rescale fully-connected layer output size\n",
    "    num_frozen_layers = 9\n",
    "\n",
    "    # Freeze `num_frozen_layers`\n",
    "    layer = 0\n",
    "    for child in model.children():\n",
    "        layer += 1\n",
    "        if layer <= num_frozen_layers:\n",
    "            for param in child.parameters():\n",
    "                param.requires_grad = False\n",
    "    print('Number of unfrozen layers: ' + str(layer-num_frozen_layers))\n",
    "    return model"
   ]
  },
  {
   "cell_type": "code",
   "execution_count": 13,
   "metadata": {},
   "outputs": [
    {
     "name": "stderr",
     "output_type": "stream",
     "text": [
      "Downloading: \"https://download.pytorch.org/models/resnet50-19c8e357.pth\" to /home/ubuntu/.cache/torch/hub/checkpoints/resnet50-19c8e357.pth\n"
     ]
    },
    {
     "data": {
      "application/vnd.jupyter.widget-view+json": {
       "model_id": "ade7687fcb7c4658bae7c9daa5d0081f",
       "version_major": 2,
       "version_minor": 0
      },
      "text/plain": [
       "HBox(children=(HTML(value=''), FloatProgress(value=0.0, max=102502400.0), HTML(value='')))"
      ]
     },
     "metadata": {},
     "output_type": "display_data"
    },
    {
     "name": "stdout",
     "output_type": "stream",
     "text": [
      "\n",
      "Number of unfrozen layers: 1\n"
     ]
    }
   ],
   "source": [
    "first_model = load_pretrained_model()"
   ]
  },
  {
   "cell_type": "code",
   "execution_count": 14,
   "metadata": {
    "collapsed": true,
    "jupyter": {
     "outputs_hidden": true
    },
    "tags": []
   },
   "outputs": [
    {
     "name": "stdout",
     "output_type": "stream",
     "text": [
      "Conv2d(3, 64, kernel_size=(7, 7), stride=(2, 2), padding=(3, 3), bias=False)\n",
      "BatchNorm2d(64, eps=1e-05, momentum=0.1, affine=True, track_running_stats=True)\n",
      "ReLU(inplace=True)\n",
      "MaxPool2d(kernel_size=3, stride=2, padding=1, dilation=1, ceil_mode=False)\n",
      "Sequential(\n",
      "  (0): Bottleneck(\n",
      "    (conv1): Conv2d(64, 64, kernel_size=(1, 1), stride=(1, 1), bias=False)\n",
      "    (bn1): BatchNorm2d(64, eps=1e-05, momentum=0.1, affine=True, track_running_stats=True)\n",
      "    (conv2): Conv2d(64, 64, kernel_size=(3, 3), stride=(1, 1), padding=(1, 1), bias=False)\n",
      "    (bn2): BatchNorm2d(64, eps=1e-05, momentum=0.1, affine=True, track_running_stats=True)\n",
      "    (conv3): Conv2d(64, 256, kernel_size=(1, 1), stride=(1, 1), bias=False)\n",
      "    (bn3): BatchNorm2d(256, eps=1e-05, momentum=0.1, affine=True, track_running_stats=True)\n",
      "    (relu): ReLU(inplace=True)\n",
      "    (downsample): Sequential(\n",
      "      (0): Conv2d(64, 256, kernel_size=(1, 1), stride=(1, 1), bias=False)\n",
      "      (1): BatchNorm2d(256, eps=1e-05, momentum=0.1, affine=True, track_running_stats=True)\n",
      "    )\n",
      "  )\n",
      "  (1): Bottleneck(\n",
      "    (conv1): Conv2d(256, 64, kernel_size=(1, 1), stride=(1, 1), bias=False)\n",
      "    (bn1): BatchNorm2d(64, eps=1e-05, momentum=0.1, affine=True, track_running_stats=True)\n",
      "    (conv2): Conv2d(64, 64, kernel_size=(3, 3), stride=(1, 1), padding=(1, 1), bias=False)\n",
      "    (bn2): BatchNorm2d(64, eps=1e-05, momentum=0.1, affine=True, track_running_stats=True)\n",
      "    (conv3): Conv2d(64, 256, kernel_size=(1, 1), stride=(1, 1), bias=False)\n",
      "    (bn3): BatchNorm2d(256, eps=1e-05, momentum=0.1, affine=True, track_running_stats=True)\n",
      "    (relu): ReLU(inplace=True)\n",
      "  )\n",
      "  (2): Bottleneck(\n",
      "    (conv1): Conv2d(256, 64, kernel_size=(1, 1), stride=(1, 1), bias=False)\n",
      "    (bn1): BatchNorm2d(64, eps=1e-05, momentum=0.1, affine=True, track_running_stats=True)\n",
      "    (conv2): Conv2d(64, 64, kernel_size=(3, 3), stride=(1, 1), padding=(1, 1), bias=False)\n",
      "    (bn2): BatchNorm2d(64, eps=1e-05, momentum=0.1, affine=True, track_running_stats=True)\n",
      "    (conv3): Conv2d(64, 256, kernel_size=(1, 1), stride=(1, 1), bias=False)\n",
      "    (bn3): BatchNorm2d(256, eps=1e-05, momentum=0.1, affine=True, track_running_stats=True)\n",
      "    (relu): ReLU(inplace=True)\n",
      "  )\n",
      ")\n",
      "Sequential(\n",
      "  (0): Bottleneck(\n",
      "    (conv1): Conv2d(256, 128, kernel_size=(1, 1), stride=(1, 1), bias=False)\n",
      "    (bn1): BatchNorm2d(128, eps=1e-05, momentum=0.1, affine=True, track_running_stats=True)\n",
      "    (conv2): Conv2d(128, 128, kernel_size=(3, 3), stride=(2, 2), padding=(1, 1), bias=False)\n",
      "    (bn2): BatchNorm2d(128, eps=1e-05, momentum=0.1, affine=True, track_running_stats=True)\n",
      "    (conv3): Conv2d(128, 512, kernel_size=(1, 1), stride=(1, 1), bias=False)\n",
      "    (bn3): BatchNorm2d(512, eps=1e-05, momentum=0.1, affine=True, track_running_stats=True)\n",
      "    (relu): ReLU(inplace=True)\n",
      "    (downsample): Sequential(\n",
      "      (0): Conv2d(256, 512, kernel_size=(1, 1), stride=(2, 2), bias=False)\n",
      "      (1): BatchNorm2d(512, eps=1e-05, momentum=0.1, affine=True, track_running_stats=True)\n",
      "    )\n",
      "  )\n",
      "  (1): Bottleneck(\n",
      "    (conv1): Conv2d(512, 128, kernel_size=(1, 1), stride=(1, 1), bias=False)\n",
      "    (bn1): BatchNorm2d(128, eps=1e-05, momentum=0.1, affine=True, track_running_stats=True)\n",
      "    (conv2): Conv2d(128, 128, kernel_size=(3, 3), stride=(1, 1), padding=(1, 1), bias=False)\n",
      "    (bn2): BatchNorm2d(128, eps=1e-05, momentum=0.1, affine=True, track_running_stats=True)\n",
      "    (conv3): Conv2d(128, 512, kernel_size=(1, 1), stride=(1, 1), bias=False)\n",
      "    (bn3): BatchNorm2d(512, eps=1e-05, momentum=0.1, affine=True, track_running_stats=True)\n",
      "    (relu): ReLU(inplace=True)\n",
      "  )\n",
      "  (2): Bottleneck(\n",
      "    (conv1): Conv2d(512, 128, kernel_size=(1, 1), stride=(1, 1), bias=False)\n",
      "    (bn1): BatchNorm2d(128, eps=1e-05, momentum=0.1, affine=True, track_running_stats=True)\n",
      "    (conv2): Conv2d(128, 128, kernel_size=(3, 3), stride=(1, 1), padding=(1, 1), bias=False)\n",
      "    (bn2): BatchNorm2d(128, eps=1e-05, momentum=0.1, affine=True, track_running_stats=True)\n",
      "    (conv3): Conv2d(128, 512, kernel_size=(1, 1), stride=(1, 1), bias=False)\n",
      "    (bn3): BatchNorm2d(512, eps=1e-05, momentum=0.1, affine=True, track_running_stats=True)\n",
      "    (relu): ReLU(inplace=True)\n",
      "  )\n",
      "  (3): Bottleneck(\n",
      "    (conv1): Conv2d(512, 128, kernel_size=(1, 1), stride=(1, 1), bias=False)\n",
      "    (bn1): BatchNorm2d(128, eps=1e-05, momentum=0.1, affine=True, track_running_stats=True)\n",
      "    (conv2): Conv2d(128, 128, kernel_size=(3, 3), stride=(1, 1), padding=(1, 1), bias=False)\n",
      "    (bn2): BatchNorm2d(128, eps=1e-05, momentum=0.1, affine=True, track_running_stats=True)\n",
      "    (conv3): Conv2d(128, 512, kernel_size=(1, 1), stride=(1, 1), bias=False)\n",
      "    (bn3): BatchNorm2d(512, eps=1e-05, momentum=0.1, affine=True, track_running_stats=True)\n",
      "    (relu): ReLU(inplace=True)\n",
      "  )\n",
      ")\n",
      "Sequential(\n",
      "  (0): Bottleneck(\n",
      "    (conv1): Conv2d(512, 256, kernel_size=(1, 1), stride=(1, 1), bias=False)\n",
      "    (bn1): BatchNorm2d(256, eps=1e-05, momentum=0.1, affine=True, track_running_stats=True)\n",
      "    (conv2): Conv2d(256, 256, kernel_size=(3, 3), stride=(2, 2), padding=(1, 1), bias=False)\n",
      "    (bn2): BatchNorm2d(256, eps=1e-05, momentum=0.1, affine=True, track_running_stats=True)\n",
      "    (conv3): Conv2d(256, 1024, kernel_size=(1, 1), stride=(1, 1), bias=False)\n",
      "    (bn3): BatchNorm2d(1024, eps=1e-05, momentum=0.1, affine=True, track_running_stats=True)\n",
      "    (relu): ReLU(inplace=True)\n",
      "    (downsample): Sequential(\n",
      "      (0): Conv2d(512, 1024, kernel_size=(1, 1), stride=(2, 2), bias=False)\n",
      "      (1): BatchNorm2d(1024, eps=1e-05, momentum=0.1, affine=True, track_running_stats=True)\n",
      "    )\n",
      "  )\n",
      "  (1): Bottleneck(\n",
      "    (conv1): Conv2d(1024, 256, kernel_size=(1, 1), stride=(1, 1), bias=False)\n",
      "    (bn1): BatchNorm2d(256, eps=1e-05, momentum=0.1, affine=True, track_running_stats=True)\n",
      "    (conv2): Conv2d(256, 256, kernel_size=(3, 3), stride=(1, 1), padding=(1, 1), bias=False)\n",
      "    (bn2): BatchNorm2d(256, eps=1e-05, momentum=0.1, affine=True, track_running_stats=True)\n",
      "    (conv3): Conv2d(256, 1024, kernel_size=(1, 1), stride=(1, 1), bias=False)\n",
      "    (bn3): BatchNorm2d(1024, eps=1e-05, momentum=0.1, affine=True, track_running_stats=True)\n",
      "    (relu): ReLU(inplace=True)\n",
      "  )\n",
      "  (2): Bottleneck(\n",
      "    (conv1): Conv2d(1024, 256, kernel_size=(1, 1), stride=(1, 1), bias=False)\n",
      "    (bn1): BatchNorm2d(256, eps=1e-05, momentum=0.1, affine=True, track_running_stats=True)\n",
      "    (conv2): Conv2d(256, 256, kernel_size=(3, 3), stride=(1, 1), padding=(1, 1), bias=False)\n",
      "    (bn2): BatchNorm2d(256, eps=1e-05, momentum=0.1, affine=True, track_running_stats=True)\n",
      "    (conv3): Conv2d(256, 1024, kernel_size=(1, 1), stride=(1, 1), bias=False)\n",
      "    (bn3): BatchNorm2d(1024, eps=1e-05, momentum=0.1, affine=True, track_running_stats=True)\n",
      "    (relu): ReLU(inplace=True)\n",
      "  )\n",
      "  (3): Bottleneck(\n",
      "    (conv1): Conv2d(1024, 256, kernel_size=(1, 1), stride=(1, 1), bias=False)\n",
      "    (bn1): BatchNorm2d(256, eps=1e-05, momentum=0.1, affine=True, track_running_stats=True)\n",
      "    (conv2): Conv2d(256, 256, kernel_size=(3, 3), stride=(1, 1), padding=(1, 1), bias=False)\n",
      "    (bn2): BatchNorm2d(256, eps=1e-05, momentum=0.1, affine=True, track_running_stats=True)\n",
      "    (conv3): Conv2d(256, 1024, kernel_size=(1, 1), stride=(1, 1), bias=False)\n",
      "    (bn3): BatchNorm2d(1024, eps=1e-05, momentum=0.1, affine=True, track_running_stats=True)\n",
      "    (relu): ReLU(inplace=True)\n",
      "  )\n",
      "  (4): Bottleneck(\n",
      "    (conv1): Conv2d(1024, 256, kernel_size=(1, 1), stride=(1, 1), bias=False)\n",
      "    (bn1): BatchNorm2d(256, eps=1e-05, momentum=0.1, affine=True, track_running_stats=True)\n",
      "    (conv2): Conv2d(256, 256, kernel_size=(3, 3), stride=(1, 1), padding=(1, 1), bias=False)\n",
      "    (bn2): BatchNorm2d(256, eps=1e-05, momentum=0.1, affine=True, track_running_stats=True)\n",
      "    (conv3): Conv2d(256, 1024, kernel_size=(1, 1), stride=(1, 1), bias=False)\n",
      "    (bn3): BatchNorm2d(1024, eps=1e-05, momentum=0.1, affine=True, track_running_stats=True)\n",
      "    (relu): ReLU(inplace=True)\n",
      "  )\n",
      "  (5): Bottleneck(\n",
      "    (conv1): Conv2d(1024, 256, kernel_size=(1, 1), stride=(1, 1), bias=False)\n",
      "    (bn1): BatchNorm2d(256, eps=1e-05, momentum=0.1, affine=True, track_running_stats=True)\n",
      "    (conv2): Conv2d(256, 256, kernel_size=(3, 3), stride=(1, 1), padding=(1, 1), bias=False)\n",
      "    (bn2): BatchNorm2d(256, eps=1e-05, momentum=0.1, affine=True, track_running_stats=True)\n",
      "    (conv3): Conv2d(256, 1024, kernel_size=(1, 1), stride=(1, 1), bias=False)\n",
      "    (bn3): BatchNorm2d(1024, eps=1e-05, momentum=0.1, affine=True, track_running_stats=True)\n",
      "    (relu): ReLU(inplace=True)\n",
      "  )\n",
      ")\n",
      "Sequential(\n",
      "  (0): Bottleneck(\n",
      "    (conv1): Conv2d(1024, 512, kernel_size=(1, 1), stride=(1, 1), bias=False)\n",
      "    (bn1): BatchNorm2d(512, eps=1e-05, momentum=0.1, affine=True, track_running_stats=True)\n",
      "    (conv2): Conv2d(512, 512, kernel_size=(3, 3), stride=(2, 2), padding=(1, 1), bias=False)\n",
      "    (bn2): BatchNorm2d(512, eps=1e-05, momentum=0.1, affine=True, track_running_stats=True)\n",
      "    (conv3): Conv2d(512, 2048, kernel_size=(1, 1), stride=(1, 1), bias=False)\n",
      "    (bn3): BatchNorm2d(2048, eps=1e-05, momentum=0.1, affine=True, track_running_stats=True)\n",
      "    (relu): ReLU(inplace=True)\n",
      "    (downsample): Sequential(\n",
      "      (0): Conv2d(1024, 2048, kernel_size=(1, 1), stride=(2, 2), bias=False)\n",
      "      (1): BatchNorm2d(2048, eps=1e-05, momentum=0.1, affine=True, track_running_stats=True)\n",
      "    )\n",
      "  )\n",
      "  (1): Bottleneck(\n",
      "    (conv1): Conv2d(2048, 512, kernel_size=(1, 1), stride=(1, 1), bias=False)\n",
      "    (bn1): BatchNorm2d(512, eps=1e-05, momentum=0.1, affine=True, track_running_stats=True)\n",
      "    (conv2): Conv2d(512, 512, kernel_size=(3, 3), stride=(1, 1), padding=(1, 1), bias=False)\n",
      "    (bn2): BatchNorm2d(512, eps=1e-05, momentum=0.1, affine=True, track_running_stats=True)\n",
      "    (conv3): Conv2d(512, 2048, kernel_size=(1, 1), stride=(1, 1), bias=False)\n",
      "    (bn3): BatchNorm2d(2048, eps=1e-05, momentum=0.1, affine=True, track_running_stats=True)\n",
      "    (relu): ReLU(inplace=True)\n",
      "  )\n",
      "  (2): Bottleneck(\n",
      "    (conv1): Conv2d(2048, 512, kernel_size=(1, 1), stride=(1, 1), bias=False)\n",
      "    (bn1): BatchNorm2d(512, eps=1e-05, momentum=0.1, affine=True, track_running_stats=True)\n",
      "    (conv2): Conv2d(512, 512, kernel_size=(3, 3), stride=(1, 1), padding=(1, 1), bias=False)\n",
      "    (bn2): BatchNorm2d(512, eps=1e-05, momentum=0.1, affine=True, track_running_stats=True)\n",
      "    (conv3): Conv2d(512, 2048, kernel_size=(1, 1), stride=(1, 1), bias=False)\n",
      "    (bn3): BatchNorm2d(2048, eps=1e-05, momentum=0.1, affine=True, track_running_stats=True)\n",
      "    (relu): ReLU(inplace=True)\n",
      "  )\n",
      ")\n",
      "AdaptiveAvgPool2d(output_size=(1, 1))\n",
      "Linear(in_features=2048, out_features=4, bias=True)\n"
     ]
    }
   ],
   "source": [
    "# You can see details of each layer of the model by printing out each of the `model.children()`.\n",
    "# There is a lot to see here! Try minimizing the output of this cell when you are done looking.\n",
    "# Pay particular attention to the last layer, which is the one we have replaced to match our output classes.\n",
    "for child in first_model.children():\n",
    "    print(child)"
   ]
  },
  {
   "cell_type": "markdown",
   "metadata": {},
   "source": [
    "## Time to Train!\n",
    "\n",
    "Now we're ready to train our model.\n",
    "We'll define separate train and test functions, and pass four critical items:\n",
    "1. Our DataLoader\n",
    "2. Our model\n",
    "3. What loss function to use\n",
    "4. What optimizer to use (only for training, not test)\n",
    "\n",
    "Notice that when initializing the optimizer, we must pass in a reference to our model's parameters.\n",
    "The optimizer is what will do the actual work of tweaking our model weights!"
   ]
  },
  {
   "cell_type": "code",
   "execution_count": 15,
   "metadata": {},
   "outputs": [],
   "source": [
    "def train(dataloader, model, loss_fn, optimizer, quiet=False):\n",
    "    model.train() # Set model to training mode\n",
    "    size = len(dataloader.dataset)\n",
    "    num_batches = len(dataloader)\n",
    "    train_loss, num_correct = [], 0\n",
    "    for batch, (X, y) in enumerate(dataloader):\n",
    "        \n",
    "        # Compute prediction error\n",
    "        pred = model(X)\n",
    "        loss = loss_fn(pred, y)\n",
    "\n",
    "        # Backpropagation\n",
    "        optimizer.zero_grad()\n",
    "        loss.backward()\n",
    "        optimizer.step()\n",
    "\n",
    "        # String formatting choices here are tuned to this small sample\n",
    "        if not quiet:\n",
    "            print(f\"Batch {batch+1}/{num_batches} loss: {loss.item():>7f}  [{(batch+1)*len(X):>3d}/{size:>3d}]\")\n",
    "        train_loss.append(loss.item())\n",
    "        num_correct += (pred.argmax(1) == y.argmax(1)).type(torch.float).sum().item()\n",
    "\n",
    "    # Return final results for loss and accuracy\n",
    "    avg_train_loss = np.mean(train_loss)\n",
    "    train_accuracy = 100*num_correct/size\n",
    "    print(f\"Train Accuracy: {train_accuracy:>0.1f}%, Avg loss: {avg_train_loss:>8f}\")\n",
    "    return avg_train_loss, train_accuracy"
   ]
  },
  {
   "cell_type": "code",
   "execution_count": 16,
   "metadata": {},
   "outputs": [],
   "source": [
    "loss_fn = nn.BCEWithLogitsLoss()\n",
    "optimizer = optim.SGD(first_model.parameters(), lr=5e-3, momentum=0.9, weight_decay=5e-3)"
   ]
  },
  {
   "cell_type": "code",
   "execution_count": 17,
   "metadata": {},
   "outputs": [
    {
     "name": "stdout",
     "output_type": "stream",
     "text": [
      "Batch 1/8 loss: 0.668452  [ 40/320]\n",
      "Batch 2/8 loss: 0.661608  [ 80/320]\n",
      "Batch 3/8 loss: 0.621466  [120/320]\n",
      "Batch 4/8 loss: 0.586070  [160/320]\n",
      "Batch 5/8 loss: 0.555697  [200/320]\n",
      "Batch 6/8 loss: 0.561508  [240/320]\n",
      "Batch 7/8 loss: 0.572384  [280/320]\n",
      "Batch 8/8 loss: 0.611354  [320/320]\n",
      "Train Accuracy: 26.9%, Avg loss: 0.604817\n"
     ]
    },
    {
     "data": {
      "text/plain": [
       "(0.6048174500465393, 26.875)"
      ]
     },
     "execution_count": 17,
     "metadata": {},
     "output_type": "execute_result"
    }
   ],
   "source": [
    "# Try out the train function\n",
    "train(train_loader, first_model, loss_fn, optimizer)"
   ]
  },
  {
   "cell_type": "code",
   "execution_count": 18,
   "metadata": {},
   "outputs": [],
   "source": [
    "def test(dataloader, model, loss_fn, quiet=False):\n",
    "    model.eval() # Set model to evaluate mode\n",
    "    size = len(dataloader.dataset)\n",
    "    num_batches = len(dataloader)\n",
    "    test_loss, num_correct = [], 0\n",
    "    with torch.no_grad():\n",
    "        for batch, (X, y) in enumerate(dataloader):\n",
    "            pred = model(X)\n",
    "            loss = loss_fn(pred, y)\n",
    "            # String formatting choices here are tuned to this small sample\n",
    "            if not quiet:\n",
    "                print(f\"Batch {batch+1}/{num_batches} loss: {loss.item():>7f}  [{(batch+1)*len(X):>3d}/{size:>3d}]\")\n",
    "            test_loss.append(loss.item())\n",
    "            num_correct += (pred.argmax(1) == y.argmax(1)).type(torch.float).sum().item()\n",
    "    avg_test_loss = np.mean(test_loss)\n",
    "    test_accuracy = 100*num_correct/size\n",
    "    print(f\"Test Accuracy: {test_accuracy:>0.1f}%, Avg loss: {avg_test_loss:>8f}\")\n",
    "    return avg_test_loss, test_accuracy"
   ]
  },
  {
   "cell_type": "code",
   "execution_count": 19,
   "metadata": {},
   "outputs": [
    {
     "name": "stdout",
     "output_type": "stream",
     "text": [
      "Batch 1/2 loss: 0.571024  [ 40/ 80]\n",
      "Batch 2/2 loss: 0.563314  [ 80/ 80]\n",
      "Test Accuracy: 28.8%, Avg loss: 0.567169\n"
     ]
    },
    {
     "data": {
      "text/plain": [
       "(0.5671689510345459, 28.75)"
      ]
     },
     "execution_count": 19,
     "metadata": {},
     "output_type": "execute_result"
    }
   ],
   "source": [
    "# Try out the test function\n",
    "test(val_loader, first_model, loss_fn)"
   ]
  },
  {
   "cell_type": "markdown",
   "metadata": {},
   "source": [
    "## Model training loops\n",
    "\n",
    "In reality, we will loop over the train and test functions several times.\n",
    "Each loop is one **epoch** of training.\n",
    "\n",
    "We expect the model performance to improve with each epoch, but it is critical to look at both the train and test accuracy to judge whether we are overfitting the model.\n",
    "Training accuracy may keep improving, but often the test/validation accuracy may plateau or get worse as training continues.\n",
    "\n",
    "To better visualize the training progress, we'll save the loss and accuracy for each epoch for plotting once the loop is finished.\n",
    "We won't do many epochs now, since the training is so slow even on our very reduced data set, but this sets us up for the remaining notebooks.\n",
    "\n",
    "Notice how we are reloading the model to start the training from scratch (with a new optimizer)."
   ]
  },
  {
   "cell_type": "code",
   "execution_count": 20,
   "metadata": {},
   "outputs": [
    {
     "name": "stdout",
     "output_type": "stream",
     "text": [
      "Number of unfrozen layers: 1\n",
      "=====Epoch 1/2=====\n",
      "Batch 1/8 loss: 0.692891  [ 40/320]\n",
      "Batch 2/8 loss: 0.653594  [ 80/320]\n",
      "Batch 3/8 loss: 0.623919  [120/320]\n",
      "Batch 4/8 loss: 0.574094  [160/320]\n",
      "Batch 5/8 loss: 0.552438  [200/320]\n",
      "Batch 6/8 loss: 0.551424  [240/320]\n",
      "Batch 7/8 loss: 0.584395  [280/320]\n",
      "Batch 8/8 loss: 0.605776  [320/320]\n",
      "Train Accuracy: 27.5%, Avg loss: 0.604816\n",
      "Batch 1/2 loss: 0.579264  [ 40/ 80]\n",
      "Batch 2/2 loss: 0.578899  [ 80/ 80]\n",
      "Test Accuracy: 22.5%, Avg loss: 0.579082\n",
      "Cumulative time elapsed: 53.7\n",
      "=====Epoch 2/2=====\n",
      "Batch 1/8 loss: 0.574739  [ 40/320]\n",
      "Batch 2/8 loss: 0.574639  [ 80/320]\n",
      "Batch 3/8 loss: 0.584406  [120/320]\n",
      "Batch 4/8 loss: 0.569366  [160/320]\n",
      "Batch 5/8 loss: 0.556545  [200/320]\n",
      "Batch 6/8 loss: 0.524620  [240/320]\n",
      "Batch 7/8 loss: 0.542898  [280/320]\n",
      "Batch 8/8 loss: 0.531621  [320/320]\n",
      "Train Accuracy: 50.3%, Avg loss: 0.557354\n",
      "Batch 1/2 loss: 0.528323  [ 40/ 80]\n",
      "Batch 2/2 loss: 0.526416  [ 80/ 80]\n",
      "Test Accuracy: 46.2%, Avg loss: 0.527370\n",
      "Cumulative time elapsed: 110.3\n",
      "-------------------------------\n",
      "Done! Total time elapsed: 110.3s\n"
     ]
    }
   ],
   "source": [
    "second_model = load_pretrained_model()\n",
    "optimizer = optim.SGD(second_model.parameters(), lr=5e-3, momentum=0.9, weight_decay=5e-3)\n",
    "n_epochs = 2\n",
    "learning_curve = pd.DataFrame(index=range(n_epochs), columns=['train_loss', 'train_acc', 'val_loss', 'val_acc'])\n",
    "since = time.time()\n",
    "for epoch in range(n_epochs):\n",
    "    print(f\"=====Epoch {epoch+1}/{n_epochs}=====\")\n",
    "    train_loss, train_acc = train(train_loader, second_model, loss_fn, optimizer)\n",
    "    val_loss, val_acc = test(val_loader, second_model, loss_fn)\n",
    "    learning_curve.loc[epoch] = (train_loss, train_acc, val_loss, val_acc)\n",
    "    print(f\"Cumulative time elapsed: {time.time() - since:.1f}\")\n",
    "total_training_time = time.time() - since\n",
    "print(f\"-------------------------------\\nDone! Total time elapsed: {total_training_time:.1f}s\")"
   ]
  },
  {
   "cell_type": "code",
   "execution_count": 21,
   "metadata": {},
   "outputs": [],
   "source": [
    "def plot_learning_curve(learning_curve):\n",
    "    fig, (ax1, ax2) = plt.subplots(2, 1, figsize=(6.4, 7))\n",
    "    x = learning_curve.index + 1\n",
    "    ax1.plot(x, learning_curve['train_acc'], label = 'training')\n",
    "    ax1.plot(x, learning_curve['val_acc'], label = 'validation')\n",
    "    ax1.axhline(100/len(category_name_to_id), label = 'random', c='r', ls=':')\n",
    "    ax1.axhline(100, label = 'perfect', c='g', ls=':')\n",
    "    ax1.legend()\n",
    "    ax1.set_ylabel('Accuracy')\n",
    "    ax1.set_xlabel('Epoch')\n",
    "    ax2.plot(x, learning_curve['train_loss'], label = 'training')\n",
    "    ax2.plot(x, learning_curve['val_loss'], label = 'validation')\n",
    "    ax2.legend()\n",
    "    ax2.set_ylabel('Loss')\n",
    "    ax2.set_xlabel('Epoch')"
   ]
  },
  {
   "cell_type": "code",
   "execution_count": 22,
   "metadata": {},
   "outputs": [
    {
     "data": {
      "image/png": "[encoded data removed]",
      "text/plain": [
       "<Figure size 460.8x504 with 2 Axes>"
      ]
     },
     "metadata": {
      "needs_background": "light"
     },
     "output_type": "display_data"
    }
   ],
   "source": [
    "plot_learning_curve(learning_curve)"
   ]
  },
  {
   "cell_type": "code",
   "execution_count": null,
   "metadata": {},
   "outputs": [],
   "source": []
  }
 ],
 "metadata": {
  "kernelspec": {
   "display_name": "Python 3",
   "language": "python",
   "name": "python3"
  },
  "language_info": {
   "codemirror_mode": {
    "name": "ipython",
    "version": 3
   },
   "file_extension": ".py",
   "mimetype": "text/x-python",
   "name": "python",
   "nbconvert_exporter": "python",
   "pygments_lexer": "ipython3",
   "version": "3.8.5"
  }
 },
 "nbformat": 4,
 "nbformat_minor": 4
}
